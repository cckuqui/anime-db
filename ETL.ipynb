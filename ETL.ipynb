{
 "cells": [
  {
   "cell_type": "markdown",
   "metadata": {},
   "source": [
    "# Import libraries"
   ]
  },
  {
   "cell_type": "code",
   "execution_count": 1,
   "metadata": {},
   "outputs": [],
   "source": [
    "import pandas as pd\n",
    "import numpy as np\n",
    "from sqlalchemy import create_engine"
   ]
  },
  {
   "cell_type": "markdown",
   "metadata": {},
   "source": [
    "# CSV Import from kaggle database: "
   ]
  },
  {
   "cell_type": "markdown",
   "metadata": {},
   "source": [
    "#### Data from MyAnimeList (MyAL): https://www.kaggle.com/marlesson/myanimelist-dataset-animes-profiles-reviews\n"
   ]
  },
  {
   "cell_type": "markdown",
   "metadata": {},
   "source": [
    "#### Data from Crunchyroll (CR): https://www.kaggle.com/filipefilardi/crunchyroll-anime-ratings"
   ]
  },
  {
   "cell_type": "code",
   "execution_count": 2,
   "metadata": {},
   "outputs": [],
   "source": [
    "csv_file_crunchy = \"datasets/crunchyroll.csv\"\n",
    "csv_file_myal = \"datasets/myanimelist.csv\""
   ]
  },
  {
   "cell_type": "code",
   "execution_count": 3,
   "metadata": {},
   "outputs": [],
   "source": [
    "crunchy_df = pd.read_csv(csv_file_crunchy )\n",
    "myal_df = pd.read_csv(csv_file_myal)"
   ]
  },
  {
   "cell_type": "markdown",
   "metadata": {},
   "source": [
    "# Cleaning databases"
   ]
  },
  {
   "cell_type": "markdown",
   "metadata": {},
   "source": [
    "## General cleaning: (1) Droping duplicates in column title, (2) set all titles in lower de cases, (3) remove non alphabeticals characters inside titles, and (4) normalize rate, and score information."
   ]
  },
  {
   "cell_type": "markdown",
   "metadata": {},
   "source": [
    "### 1 Dropping duplicates"
   ]
  },
  {
   "cell_type": "code",
   "execution_count": 4,
   "metadata": {},
   "outputs": [],
   "source": [
    "crunchy_df.drop_duplicates(subset = \"anime\", keep = \"first\", inplace = True) \n",
    "myal_df.drop_duplicates(subset = \"title\", keep = \"first\", inplace = True) "
   ]
  },
  {
   "cell_type": "markdown",
   "metadata": {},
   "source": [
    "### 2 Set titles in lower case"
   ]
  },
  {
   "cell_type": "code",
   "execution_count": 5,
   "metadata": {},
   "outputs": [],
   "source": [
    "crunchy_df[\"anime\"] = crunchy_df['anime'].str.lower()\n",
    "myal_df[\"title\"] = myal_df['title'].str.lower()"
   ]
  },
  {
   "cell_type": "markdown",
   "metadata": {},
   "source": [
    "### 3 Remove non-alphabeticals characters in titles"
   ]
  },
  {
   "cell_type": "code",
   "execution_count": 6,
   "metadata": {},
   "outputs": [],
   "source": [
    "crunchy_df[\"anime\"] = crunchy_df['anime'].astype(str).str.replace('[^a-z,0-9, \" \"]', '')\n",
    "myal_df[\"title\"] = myal_df['title'].astype(str).str.replace('[^a-z,0-9,\" \"]', '')"
   ]
  },
  {
   "cell_type": "markdown",
   "metadata": {},
   "source": [
    "### 4 Normalize rate and score information to match"
   ]
  },
  {
   "cell_type": "code",
   "execution_count": 7,
   "metadata": {},
   "outputs": [],
   "source": [
    "crunchy_df['rate'] = crunchy_df['rate']/5 *100\n",
    "myal_df['score'] = myal_df['score']/10 *100"
   ]
  },
  {
   "cell_type": "markdown",
   "metadata": {},
   "source": [
    "## Especific cleaning per dataframe: (1) Cleaning CR, and (2) Cleaning MyAL"
   ]
  },
  {
   "cell_type": "markdown",
   "metadata": {},
   "source": [
    "### 1 Cleaning CR - transpose genre information to be able to compare it with the MyAnimeList data"
   ]
  },
  {
   "cell_type": "markdown",
   "metadata": {},
   "source": [
    "#### Inspecting columns of the data"
   ]
  },
  {
   "cell_type": "code",
   "execution_count": 8,
   "metadata": {
    "scrolled": true
   },
   "outputs": [
    {
     "output_type": "execute_result",
     "data": {
      "text/plain": "array(['anime', 'anime_url', 'anime_img', 'episodes', 'votes', 'weight',\n       'rate', 'rate_1', 'rate_2', 'rate_3', 'rate_4', 'rate_5',\n       'genre_action', 'genre_adventure', 'genre_comedy', 'genre_drama',\n       'genre_family', 'genre_fantasy', 'genre_food', 'genre_harem',\n       'genre_historical', 'genre_horror', 'genre_idols', 'genre_isekai',\n       'genre_jdrama', 'genre_magical girls', 'genre_martial arts',\n       'genre_mecha', 'genre_music', 'genre_mystery',\n       'genre_post-apocalyptic', 'genre_romance', 'genre_sci-fi',\n       'genre_seinen', 'genre_sgdrama', 'genre_shojo', 'genre_shonen',\n       'genre_slice of life', 'genre_sports', 'genre_supernatural',\n       'genre_thriller'], dtype=object)"
     },
     "metadata": {},
     "execution_count": 8
    }
   ],
   "source": [
    "crunchy_df.columns.values"
   ]
  },
  {
   "cell_type": "markdown",
   "metadata": {},
   "source": [
    "#### Transpose columns by genre to rows using melt function. "
   ]
  },
  {
   "cell_type": "code",
   "execution_count": 9,
   "metadata": {},
   "outputs": [
    {
     "output_type": "execute_result",
     "data": {
      "text/plain": "               anime                                     anime_url  episodes  \\\n0  naruto shippuuden  https://www.crunchyroll.com/naruto-shippuden       500   \n1        shugo chara       https://www.crunchyroll.com/shugo-chara        51   \n2             bleach            https://www.crunchyroll.com/bleach       366   \n3             naruto            https://www.crunchyroll.com/naruto       220   \n4          skip beat         https://www.crunchyroll.com/skip-beat         0   \n\n   rate      variable  value  \n0  96.2  genre_action    0.0  \n1  97.2  genre_action    0.0  \n2  96.6  genre_action    0.0  \n3  96.0  genre_action    0.0  \n4  98.2  genre_action    0.0  ",
      "text/html": "<div>\n<style scoped>\n    .dataframe tbody tr th:only-of-type {\n        vertical-align: middle;\n    }\n\n    .dataframe tbody tr th {\n        vertical-align: top;\n    }\n\n    .dataframe thead th {\n        text-align: right;\n    }\n</style>\n<table border=\"1\" class=\"dataframe\">\n  <thead>\n    <tr style=\"text-align: right;\">\n      <th></th>\n      <th>anime</th>\n      <th>anime_url</th>\n      <th>episodes</th>\n      <th>rate</th>\n      <th>variable</th>\n      <th>value</th>\n    </tr>\n  </thead>\n  <tbody>\n    <tr>\n      <td>0</td>\n      <td>naruto shippuuden</td>\n      <td>https://www.crunchyroll.com/naruto-shippuden</td>\n      <td>500</td>\n      <td>96.2</td>\n      <td>genre_action</td>\n      <td>0.0</td>\n    </tr>\n    <tr>\n      <td>1</td>\n      <td>shugo chara</td>\n      <td>https://www.crunchyroll.com/shugo-chara</td>\n      <td>51</td>\n      <td>97.2</td>\n      <td>genre_action</td>\n      <td>0.0</td>\n    </tr>\n    <tr>\n      <td>2</td>\n      <td>bleach</td>\n      <td>https://www.crunchyroll.com/bleach</td>\n      <td>366</td>\n      <td>96.6</td>\n      <td>genre_action</td>\n      <td>0.0</td>\n    </tr>\n    <tr>\n      <td>3</td>\n      <td>naruto</td>\n      <td>https://www.crunchyroll.com/naruto</td>\n      <td>220</td>\n      <td>96.0</td>\n      <td>genre_action</td>\n      <td>0.0</td>\n    </tr>\n    <tr>\n      <td>4</td>\n      <td>skip beat</td>\n      <td>https://www.crunchyroll.com/skip-beat</td>\n      <td>0</td>\n      <td>98.2</td>\n      <td>genre_action</td>\n      <td>0.0</td>\n    </tr>\n  </tbody>\n</table>\n</div>"
     },
     "metadata": {},
     "execution_count": 9
    }
   ],
   "source": [
    "crunchy = pd.melt(crunchy_df, id_vars = ['anime', 'anime_url', 'episodes', 'rate'], \n",
    "       value_vars = ['genre_action', \n",
    "                    'genre_adventure', \n",
    "                    'genre_comedy', \n",
    "                    'genre_drama',\n",
    "                    'genre_family', \n",
    "                    'genre_fantasy', \n",
    "                    'genre_food', 'genre_harem', \n",
    "                    'genre_historical', \n",
    "                    'genre_horror', \n",
    "                    'genre_idols', \n",
    "                    'genre_isekai', \n",
    "                    'genre_jdrama', \n",
    "                    'genre_magical girls', \n",
    "                    'genre_martial arts', \n",
    "                    'genre_mecha', \n",
    "                    'genre_music', \n",
    "                    'genre_mystery', \n",
    "                    'genre_post-apocalyptic', \n",
    "                    'genre_romance', \n",
    "                    'genre_sci-fi', \n",
    "                    'genre_seinen', \n",
    "                    'genre_sgdrama', \n",
    "                    'genre_shojo', \n",
    "                    'genre_shonen', \n",
    "                    'genre_slice of life', \n",
    "                    'genre_sports', \n",
    "                    'genre_supernatural', \n",
    "                    'genre_thriller'\n",
    "                   ])\n",
    "crunchy.head()"
   ]
  },
  {
   "cell_type": "markdown",
   "metadata": {},
   "source": [
    "#### Delete value column and rename values inside the genre column without the 'genre_'. Rename columns to Title, url, score and genre. "
   ]
  },
  {
   "cell_type": "code",
   "execution_count": 10,
   "metadata": {
    "scrolled": true
   },
   "outputs": [],
   "source": [
    "crunchy = crunchy.drop(['value'], axis = 1)\n",
    "crunchy['variable'] = crunchy['variable'].str.replace('genre_', '').astype(str)\n",
    "crunchy = crunchy.rename(columns = {\"anime\": \"title\", \"anime_url\": \"url\", \"rate\": \"score\", \"variable\": \"genre\"})"
   ]
  },
  {
   "cell_type": "markdown",
   "metadata": {},
   "source": [
    "### 2 Cleaning MyAnimeList - first normal form for genre information"
   ]
  },
  {
   "cell_type": "markdown",
   "metadata": {},
   "source": [
    "#### Inspecting columns of the data"
   ]
  },
  {
   "cell_type": "code",
   "execution_count": 11,
   "metadata": {},
   "outputs": [
    {
     "output_type": "execute_result",
     "data": {
      "text/plain": "array(['uid', 'title', 'synopsis', 'genre', 'aired', 'episodes',\n       'members', 'popularity', 'ranked', 'score', 'img_url', 'link'],\n      dtype=object)"
     },
     "metadata": {},
     "execution_count": 11
    }
   ],
   "source": [
    "myal_df.columns.values"
   ]
  },
  {
   "cell_type": "markdown",
   "metadata": {},
   "source": [
    "#### Create lists to contain the information per anime per genre listed to start the normalization of genre"
   ]
  },
  {
   "cell_type": "code",
   "execution_count": 12,
   "metadata": {},
   "outputs": [],
   "source": [
    "title = []\n",
    "episodes = []\n",
    "score = []\n",
    "link = []\n",
    "genre = []"
   ]
  },
  {
   "cell_type": "markdown",
   "metadata": {},
   "source": [
    "#### Iterate each row to delete symbols inside genre values and divide them value. Also iterate each of these values to add independent title, episodes, score, and link."
   ]
  },
  {
   "cell_type": "code",
   "execution_count": 13,
   "metadata": {},
   "outputs": [],
   "source": [
    "for index, data in myal_df.iterrows():\n",
    "    data_genre = data['genre'] \n",
    "    data_genre = data_genre.replace('[', '') \n",
    "    data_genre = data_genre.replace(']', '')\n",
    "    data_genre = data_genre.split(',')\n",
    "    \n",
    "    for dg in data_genre:\n",
    "        genre.append(dg)\n",
    "        title.append(data['title'])\n",
    "        episodes.append(data['episodes'])\n",
    "        score.append(data['score'])\n",
    "        link.append(data['link'])"
   ]
  },
  {
   "cell_type": "markdown",
   "metadata": {},
   "source": [
    "#### Create a new dictionary to contain values recolected in the list that we created to create a new data frame."
   ]
  },
  {
   "cell_type": "code",
   "execution_count": 14,
   "metadata": {},
   "outputs": [],
   "source": [
    "dict = {'title': title, 'link': link, 'episodes': episodes, 'score': score, 'genre': genre} \n",
    "myal = pd.DataFrame(dict)"
   ]
  },
  {
   "cell_type": "markdown",
   "metadata": {},
   "source": [
    "#### Exploration of new dataframe for MyAL."
   ]
  },
  {
   "cell_type": "code",
   "execution_count": 15,
   "metadata": {
    "scrolled": false
   },
   "outputs": [
    {
     "output_type": "execute_result",
     "data": {
      "text/plain": "                   title                                               link  \\\n0  haikyuu second season  https://myanimelist.net/anime/28891/Haikyuu_Se...   \n1  haikyuu second season  https://myanimelist.net/anime/28891/Haikyuu_Se...   \n2  haikyuu second season  https://myanimelist.net/anime/28891/Haikyuu_Se...   \n3  haikyuu second season  https://myanimelist.net/anime/28891/Haikyuu_Se...   \n4  haikyuu second season  https://myanimelist.net/anime/28891/Haikyuu_Se...   \n\n   episodes  score       genre  \n0      25.0   88.2    'Comedy'  \n1      25.0   88.2    'Sports'  \n2      25.0   88.2     'Drama'  \n3      25.0   88.2    'School'  \n4      25.0   88.2   'Shounen'  ",
      "text/html": "<div>\n<style scoped>\n    .dataframe tbody tr th:only-of-type {\n        vertical-align: middle;\n    }\n\n    .dataframe tbody tr th {\n        vertical-align: top;\n    }\n\n    .dataframe thead th {\n        text-align: right;\n    }\n</style>\n<table border=\"1\" class=\"dataframe\">\n  <thead>\n    <tr style=\"text-align: right;\">\n      <th></th>\n      <th>title</th>\n      <th>link</th>\n      <th>episodes</th>\n      <th>score</th>\n      <th>genre</th>\n    </tr>\n  </thead>\n  <tbody>\n    <tr>\n      <td>0</td>\n      <td>haikyuu second season</td>\n      <td>https://myanimelist.net/anime/28891/Haikyuu_Se...</td>\n      <td>25.0</td>\n      <td>88.2</td>\n      <td>'Comedy'</td>\n    </tr>\n    <tr>\n      <td>1</td>\n      <td>haikyuu second season</td>\n      <td>https://myanimelist.net/anime/28891/Haikyuu_Se...</td>\n      <td>25.0</td>\n      <td>88.2</td>\n      <td>'Sports'</td>\n    </tr>\n    <tr>\n      <td>2</td>\n      <td>haikyuu second season</td>\n      <td>https://myanimelist.net/anime/28891/Haikyuu_Se...</td>\n      <td>25.0</td>\n      <td>88.2</td>\n      <td>'Drama'</td>\n    </tr>\n    <tr>\n      <td>3</td>\n      <td>haikyuu second season</td>\n      <td>https://myanimelist.net/anime/28891/Haikyuu_Se...</td>\n      <td>25.0</td>\n      <td>88.2</td>\n      <td>'School'</td>\n    </tr>\n    <tr>\n      <td>4</td>\n      <td>haikyuu second season</td>\n      <td>https://myanimelist.net/anime/28891/Haikyuu_Se...</td>\n      <td>25.0</td>\n      <td>88.2</td>\n      <td>'Shounen'</td>\n    </tr>\n  </tbody>\n</table>\n</div>"
     },
     "metadata": {},
     "execution_count": 15
    }
   ],
   "source": [
    "myal.head()"
   ]
  },
  {
   "cell_type": "markdown",
   "metadata": {},
   "source": [
    "#### Delete symbols inside values of genre column and make them lower case"
   ]
  },
  {
   "cell_type": "code",
   "execution_count": 16,
   "metadata": {},
   "outputs": [],
   "source": [
    "myal['genre'] = myal['genre'].str.replace(\"'\", '').astype(str)\n",
    "myal[\"genre\"] = myal['genre'].str.lower()"
   ]
  },
  {
   "cell_type": "markdown",
   "metadata": {},
   "source": [
    "# Transformation of data to match both dataframes"
   ]
  },
  {
   "cell_type": "markdown",
   "metadata": {},
   "source": [
    "#### Add id_source to each dataframe"
   ]
  },
  {
   "cell_type": "code",
   "execution_count": 17,
   "metadata": {},
   "outputs": [],
   "source": [
    "crunchy['source'] = 1\n",
    "myal['source'] = 2"
   ]
  },
  {
   "cell_type": "markdown",
   "metadata": {},
   "source": [
    "#### Re-inspect dataframes to review the information stored."
   ]
  },
  {
   "cell_type": "code",
   "execution_count": 18,
   "metadata": {},
   "outputs": [
    {
     "output_type": "execute_result",
     "data": {
      "text/plain": "               title                                           url  episodes  \\\n0  naruto shippuuden  https://www.crunchyroll.com/naruto-shippuden       500   \n1        shugo chara       https://www.crunchyroll.com/shugo-chara        51   \n2             bleach            https://www.crunchyroll.com/bleach       366   \n3             naruto            https://www.crunchyroll.com/naruto       220   \n4          skip beat         https://www.crunchyroll.com/skip-beat         0   \n\n   score   genre  source  \n0   96.2  action       1  \n1   97.2  action       1  \n2   96.6  action       1  \n3   96.0  action       1  \n4   98.2  action       1  ",
      "text/html": "<div>\n<style scoped>\n    .dataframe tbody tr th:only-of-type {\n        vertical-align: middle;\n    }\n\n    .dataframe tbody tr th {\n        vertical-align: top;\n    }\n\n    .dataframe thead th {\n        text-align: right;\n    }\n</style>\n<table border=\"1\" class=\"dataframe\">\n  <thead>\n    <tr style=\"text-align: right;\">\n      <th></th>\n      <th>title</th>\n      <th>url</th>\n      <th>episodes</th>\n      <th>score</th>\n      <th>genre</th>\n      <th>source</th>\n    </tr>\n  </thead>\n  <tbody>\n    <tr>\n      <td>0</td>\n      <td>naruto shippuuden</td>\n      <td>https://www.crunchyroll.com/naruto-shippuden</td>\n      <td>500</td>\n      <td>96.2</td>\n      <td>action</td>\n      <td>1</td>\n    </tr>\n    <tr>\n      <td>1</td>\n      <td>shugo chara</td>\n      <td>https://www.crunchyroll.com/shugo-chara</td>\n      <td>51</td>\n      <td>97.2</td>\n      <td>action</td>\n      <td>1</td>\n    </tr>\n    <tr>\n      <td>2</td>\n      <td>bleach</td>\n      <td>https://www.crunchyroll.com/bleach</td>\n      <td>366</td>\n      <td>96.6</td>\n      <td>action</td>\n      <td>1</td>\n    </tr>\n    <tr>\n      <td>3</td>\n      <td>naruto</td>\n      <td>https://www.crunchyroll.com/naruto</td>\n      <td>220</td>\n      <td>96.0</td>\n      <td>action</td>\n      <td>1</td>\n    </tr>\n    <tr>\n      <td>4</td>\n      <td>skip beat</td>\n      <td>https://www.crunchyroll.com/skip-beat</td>\n      <td>0</td>\n      <td>98.2</td>\n      <td>action</td>\n      <td>1</td>\n    </tr>\n  </tbody>\n</table>\n</div>"
     },
     "metadata": {},
     "execution_count": 18
    }
   ],
   "source": [
    "crunchy.head()"
   ]
  },
  {
   "cell_type": "code",
   "execution_count": 19,
   "metadata": {},
   "outputs": [
    {
     "output_type": "execute_result",
     "data": {
      "text/plain": "                   title                                               link  \\\n0  haikyuu second season  https://myanimelist.net/anime/28891/Haikyuu_Se...   \n1  haikyuu second season  https://myanimelist.net/anime/28891/Haikyuu_Se...   \n2  haikyuu second season  https://myanimelist.net/anime/28891/Haikyuu_Se...   \n3  haikyuu second season  https://myanimelist.net/anime/28891/Haikyuu_Se...   \n4  haikyuu second season  https://myanimelist.net/anime/28891/Haikyuu_Se...   \n\n   episodes  score     genre  source  \n0      25.0   88.2    comedy       2  \n1      25.0   88.2    sports       2  \n2      25.0   88.2     drama       2  \n3      25.0   88.2    school       2  \n4      25.0   88.2   shounen       2  ",
      "text/html": "<div>\n<style scoped>\n    .dataframe tbody tr th:only-of-type {\n        vertical-align: middle;\n    }\n\n    .dataframe tbody tr th {\n        vertical-align: top;\n    }\n\n    .dataframe thead th {\n        text-align: right;\n    }\n</style>\n<table border=\"1\" class=\"dataframe\">\n  <thead>\n    <tr style=\"text-align: right;\">\n      <th></th>\n      <th>title</th>\n      <th>link</th>\n      <th>episodes</th>\n      <th>score</th>\n      <th>genre</th>\n      <th>source</th>\n    </tr>\n  </thead>\n  <tbody>\n    <tr>\n      <td>0</td>\n      <td>haikyuu second season</td>\n      <td>https://myanimelist.net/anime/28891/Haikyuu_Se...</td>\n      <td>25.0</td>\n      <td>88.2</td>\n      <td>comedy</td>\n      <td>2</td>\n    </tr>\n    <tr>\n      <td>1</td>\n      <td>haikyuu second season</td>\n      <td>https://myanimelist.net/anime/28891/Haikyuu_Se...</td>\n      <td>25.0</td>\n      <td>88.2</td>\n      <td>sports</td>\n      <td>2</td>\n    </tr>\n    <tr>\n      <td>2</td>\n      <td>haikyuu second season</td>\n      <td>https://myanimelist.net/anime/28891/Haikyuu_Se...</td>\n      <td>25.0</td>\n      <td>88.2</td>\n      <td>drama</td>\n      <td>2</td>\n    </tr>\n    <tr>\n      <td>3</td>\n      <td>haikyuu second season</td>\n      <td>https://myanimelist.net/anime/28891/Haikyuu_Se...</td>\n      <td>25.0</td>\n      <td>88.2</td>\n      <td>school</td>\n      <td>2</td>\n    </tr>\n    <tr>\n      <td>4</td>\n      <td>haikyuu second season</td>\n      <td>https://myanimelist.net/anime/28891/Haikyuu_Se...</td>\n      <td>25.0</td>\n      <td>88.2</td>\n      <td>shounen</td>\n      <td>2</td>\n    </tr>\n  </tbody>\n</table>\n</div>"
     },
     "metadata": {},
     "execution_count": 19
    }
   ],
   "source": [
    "myal.head()"
   ]
  },
  {
   "cell_type": "markdown",
   "metadata": {},
   "source": [
    "#### Rename link to url to have the same names for both dataframes"
   ]
  },
  {
   "cell_type": "code",
   "execution_count": 20,
   "metadata": {},
   "outputs": [],
   "source": [
    "myal = myal.rename(columns={\"link\":\"url\"})"
   ]
  },
  {
   "cell_type": "markdown",
   "metadata": {},
   "source": [
    "#### Inspect type of data of both dataframes"
   ]
  },
  {
   "cell_type": "code",
   "execution_count": 21,
   "metadata": {
    "scrolled": true
   },
   "outputs": [
    {
     "output_type": "execute_result",
     "data": {
      "text/plain": "title        object\nurl          object\nepisodes      int64\nscore       float64\ngenre        object\nsource        int64\ndtype: object"
     },
     "metadata": {},
     "execution_count": 21
    }
   ],
   "source": [
    "crunchy.dtypes"
   ]
  },
  {
   "cell_type": "code",
   "execution_count": 22,
   "metadata": {
    "scrolled": true
   },
   "outputs": [
    {
     "output_type": "execute_result",
     "data": {
      "text/plain": "title        object\nurl          object\nepisodes    float64\nscore       float64\ngenre        object\nsource        int64\ndtype: object"
     },
     "metadata": {},
     "execution_count": 22
    }
   ],
   "source": [
    "myal.dtypes"
   ]
  },
  {
   "cell_type": "markdown",
   "metadata": {},
   "source": [
    "#### Match type of data by changing type of episodes in MyAL"
   ]
  },
  {
   "cell_type": "code",
   "execution_count": 23,
   "metadata": {},
   "outputs": [],
   "source": [
    "myal = myal[myal['episodes'].notnull()]\n",
    "myal['episodes'] = myal['episodes'].astype(int)"
   ]
  },
  {
   "cell_type": "markdown",
   "metadata": {},
   "source": [
    "### Append both data frames, and reset index"
   ]
  },
  {
   "cell_type": "code",
   "execution_count": 24,
   "metadata": {},
   "outputs": [
    {
     "output_type": "execute_result",
     "data": {
      "text/plain": "(81698, 6)"
     },
     "metadata": {},
     "execution_count": 24
    }
   ],
   "source": [
    "merge_df = crunchy.append(myal, ignore_index = True)\n",
    "merge_df.shape"
   ]
  },
  {
   "cell_type": "markdown",
   "metadata": {},
   "source": [
    "#### Verify merge and inspect"
   ]
  },
  {
   "cell_type": "code",
   "execution_count": 25,
   "metadata": {},
   "outputs": [
    {
     "output_type": "execute_result",
     "data": {
      "text/plain": "               title                                           url  episodes  \\\n0  naruto shippuuden  https://www.crunchyroll.com/naruto-shippuden       500   \n1        shugo chara       https://www.crunchyroll.com/shugo-chara        51   \n2             bleach            https://www.crunchyroll.com/bleach       366   \n3             naruto            https://www.crunchyroll.com/naruto       220   \n4          skip beat         https://www.crunchyroll.com/skip-beat         0   \n\n   score   genre  source  \n0   96.2  action       1  \n1   97.2  action       1  \n2   96.6  action       1  \n3   96.0  action       1  \n4   98.2  action       1  ",
      "text/html": "<div>\n<style scoped>\n    .dataframe tbody tr th:only-of-type {\n        vertical-align: middle;\n    }\n\n    .dataframe tbody tr th {\n        vertical-align: top;\n    }\n\n    .dataframe thead th {\n        text-align: right;\n    }\n</style>\n<table border=\"1\" class=\"dataframe\">\n  <thead>\n    <tr style=\"text-align: right;\">\n      <th></th>\n      <th>title</th>\n      <th>url</th>\n      <th>episodes</th>\n      <th>score</th>\n      <th>genre</th>\n      <th>source</th>\n    </tr>\n  </thead>\n  <tbody>\n    <tr>\n      <td>0</td>\n      <td>naruto shippuuden</td>\n      <td>https://www.crunchyroll.com/naruto-shippuden</td>\n      <td>500</td>\n      <td>96.2</td>\n      <td>action</td>\n      <td>1</td>\n    </tr>\n    <tr>\n      <td>1</td>\n      <td>shugo chara</td>\n      <td>https://www.crunchyroll.com/shugo-chara</td>\n      <td>51</td>\n      <td>97.2</td>\n      <td>action</td>\n      <td>1</td>\n    </tr>\n    <tr>\n      <td>2</td>\n      <td>bleach</td>\n      <td>https://www.crunchyroll.com/bleach</td>\n      <td>366</td>\n      <td>96.6</td>\n      <td>action</td>\n      <td>1</td>\n    </tr>\n    <tr>\n      <td>3</td>\n      <td>naruto</td>\n      <td>https://www.crunchyroll.com/naruto</td>\n      <td>220</td>\n      <td>96.0</td>\n      <td>action</td>\n      <td>1</td>\n    </tr>\n    <tr>\n      <td>4</td>\n      <td>skip beat</td>\n      <td>https://www.crunchyroll.com/skip-beat</td>\n      <td>0</td>\n      <td>98.2</td>\n      <td>action</td>\n      <td>1</td>\n    </tr>\n  </tbody>\n</table>\n</div>"
     },
     "metadata": {},
     "execution_count": 25
    }
   ],
   "source": [
    "merge_df.head()"
   ]
  },
  {
   "cell_type": "code",
   "execution_count": 26,
   "metadata": {},
   "outputs": [
    {
     "output_type": "stream",
     "name": "stdout",
     "text": "Index(['title', 'url', 'episodes', 'score', 'genre', 'source'], dtype='object')\ntitle        object\nurl          object\nepisodes      int64\nscore       float64\ngenre        object\nsource        int64\ndtype: object\n"
    }
   ],
   "source": [
    "print(merge_df.columns)\n",
    "print(merge_df.dtypes)"
   ]
  },
  {
   "cell_type": "markdown",
   "metadata": {},
   "source": [
    "# Create catalogs - base on the data model"
   ]
  },
  {
   "cell_type": "markdown",
   "metadata": {},
   "source": [
    "## Data Model from QuickDBD"
   ]
  },
  {
   "cell_type": "markdown",
   "metadata": {},
   "source": [
    "![Data Model from QuickDBD](datamodel/image.png)"
   ]
  },
  {
   "cell_type": "markdown",
   "metadata": {},
   "source": [
    "## Creating Collection 'anime'"
   ]
  },
  {
   "cell_type": "code",
   "execution_count": 27,
   "metadata": {},
   "outputs": [
    {
     "output_type": "execute_result",
     "data": {
      "text/plain": "                                                   title  episodes\n0                                      naruto shippuuden       500\n1                                            shugo chara        51\n2                                                 bleach       366\n3                                                 naruto       220\n4                                              skip beat         0\n...                                                  ...       ...\n16521                           netjuu no susume special         1\n16522                                        naruto x ut         1\n16523                                   miira no kaikata        12\n16524                       kingsglaive final fantasy xv         1\n16525  chuunibyou demo koi ga shitai kirameki no slap...         1\n\n[16526 rows x 2 columns]",
      "text/html": "<div>\n<style scoped>\n    .dataframe tbody tr th:only-of-type {\n        vertical-align: middle;\n    }\n\n    .dataframe tbody tr th {\n        vertical-align: top;\n    }\n\n    .dataframe thead th {\n        text-align: right;\n    }\n</style>\n<table border=\"1\" class=\"dataframe\">\n  <thead>\n    <tr style=\"text-align: right;\">\n      <th></th>\n      <th>title</th>\n      <th>episodes</th>\n    </tr>\n  </thead>\n  <tbody>\n    <tr>\n      <td>0</td>\n      <td>naruto shippuuden</td>\n      <td>500</td>\n    </tr>\n    <tr>\n      <td>1</td>\n      <td>shugo chara</td>\n      <td>51</td>\n    </tr>\n    <tr>\n      <td>2</td>\n      <td>bleach</td>\n      <td>366</td>\n    </tr>\n    <tr>\n      <td>3</td>\n      <td>naruto</td>\n      <td>220</td>\n    </tr>\n    <tr>\n      <td>4</td>\n      <td>skip beat</td>\n      <td>0</td>\n    </tr>\n    <tr>\n      <td>...</td>\n      <td>...</td>\n      <td>...</td>\n    </tr>\n    <tr>\n      <td>16521</td>\n      <td>netjuu no susume special</td>\n      <td>1</td>\n    </tr>\n    <tr>\n      <td>16522</td>\n      <td>naruto x ut</td>\n      <td>1</td>\n    </tr>\n    <tr>\n      <td>16523</td>\n      <td>miira no kaikata</td>\n      <td>12</td>\n    </tr>\n    <tr>\n      <td>16524</td>\n      <td>kingsglaive final fantasy xv</td>\n      <td>1</td>\n    </tr>\n    <tr>\n      <td>16525</td>\n      <td>chuunibyou demo koi ga shitai kirameki no slap...</td>\n      <td>1</td>\n    </tr>\n  </tbody>\n</table>\n<p>16526 rows × 2 columns</p>\n</div>"
     },
     "metadata": {},
     "execution_count": 27
    }
   ],
   "source": [
    "anime = merge_df[['title','episodes']]\n",
    "anime.drop_duplicates('title', inplace = True)\n",
    "anime.reset_index(drop=True, inplace = True)\n",
    "anime"
   ]
  },
  {
   "cell_type": "markdown",
   "metadata": {},
   "source": [
    "## Creating Collection 'genre'"
   ]
  },
  {
   "cell_type": "code",
   "execution_count": 28,
   "metadata": {},
   "outputs": [
    {
     "output_type": "execute_result",
     "data": {
      "text/plain": "    genre_name\n0       action\n1    adventure\n2       comedy\n3        drama\n4       family\n..         ...\n89  shounen ai\n90      police\n91      shoujo\n92     samurai\n93     vampire\n\n[94 rows x 1 columns]",
      "text/html": "<div>\n<style scoped>\n    .dataframe tbody tr th:only-of-type {\n        vertical-align: middle;\n    }\n\n    .dataframe tbody tr th {\n        vertical-align: top;\n    }\n\n    .dataframe thead th {\n        text-align: right;\n    }\n</style>\n<table border=\"1\" class=\"dataframe\">\n  <thead>\n    <tr style=\"text-align: right;\">\n      <th></th>\n      <th>genre_name</th>\n    </tr>\n  </thead>\n  <tbody>\n    <tr>\n      <td>0</td>\n      <td>action</td>\n    </tr>\n    <tr>\n      <td>1</td>\n      <td>adventure</td>\n    </tr>\n    <tr>\n      <td>2</td>\n      <td>comedy</td>\n    </tr>\n    <tr>\n      <td>3</td>\n      <td>drama</td>\n    </tr>\n    <tr>\n      <td>4</td>\n      <td>family</td>\n    </tr>\n    <tr>\n      <td>...</td>\n      <td>...</td>\n    </tr>\n    <tr>\n      <td>89</td>\n      <td>shounen ai</td>\n    </tr>\n    <tr>\n      <td>90</td>\n      <td>police</td>\n    </tr>\n    <tr>\n      <td>91</td>\n      <td>shoujo</td>\n    </tr>\n    <tr>\n      <td>92</td>\n      <td>samurai</td>\n    </tr>\n    <tr>\n      <td>93</td>\n      <td>vampire</td>\n    </tr>\n  </tbody>\n</table>\n<p>94 rows × 1 columns</p>\n</div>"
     },
     "metadata": {},
     "execution_count": 28
    }
   ],
   "source": [
    "genre = merge_df[['genre']]\n",
    "genre = genre.drop_duplicates('genre')\n",
    "genre = genre.reset_index(drop=True).rename(columns={'genre':'genre_name'})\n",
    "genre"
   ]
  },
  {
   "cell_type": "markdown",
   "metadata": {},
   "source": [
    "## Upload data model to PgAdmin"
   ]
  },
  {
   "cell_type": "markdown",
   "metadata": {},
   "source": [
    "### NOTE: Created database as 'anime_db' and created tables as describe in datamodel/schema.sql inside PgAdmin."
   ]
  },
  {
   "cell_type": "markdown",
   "metadata": {},
   "source": [
    "create table \"anime\" (\n",
    "    \"id\" serial primary key,\n",
    "    \"title\" varchar,\n",
    "    \"episodes\" int\n",
    ");\n",
    "\n",
    "\n",
    "create table \"source_site\" (\n",
    "    \"id\" serial primary key,\n",
    "    \"source_name\" varchar\n",
    ");\n",
    "\n",
    "create table \"genre\" (\n",
    "    \"id\" serial primary key,\n",
    "    \"genre_name\" varchar\n",
    ");\n",
    "\n",
    "create table \"rating\" (\n",
    "    \"id\" serial primary key,\n",
    "    \"id_anime\" int,\n",
    "    \"id_source\" int,\n",
    "    \"rating\" int,\n",
    "    foreign key(\"id_anime\")\n",
    "    references \"anime\" (\"id\"),\n",
    "    foreign key(\"id_source\")\n",
    "    references \"source_site\" (\"id\")\n",
    ");\n",
    "\n",
    "create table \"genre_anime\" (\n",
    "    \"id_anime\" int,\n",
    "    \"id_genre\" int,\n",
    "    foreign key(\"id_anime\")\n",
    "    references \"anime\" (\"id\"),\n",
    "    foreign key(\"id_genre\")\n",
    "    references \"genre\" (\"id\")\n",
    ");"
   ]
  },
  {
   "cell_type": "markdown",
   "metadata": {},
   "source": [
    "### Manually created primary key for genre_anime with the combination of both ids (id_anime & id_genre)"
   ]
  },
  {
   "cell_type": "markdown",
   "metadata": {},
   "source": [
    "![Primary Key for 'genre_anime' table](datamodel/genre_anime_pk.png)"
   ]
  },
  {
   "cell_type": "markdown",
   "metadata": {},
   "source": [
    "### Connection with postgresql"
   ]
  },
  {
   "cell_type": "code",
   "execution_count": 29,
   "metadata": {},
   "outputs": [],
   "source": [
    "from password import key"
   ]
  },
  {
   "cell_type": "code",
   "execution_count": 30,
   "metadata": {},
   "outputs": [],
   "source": [
    "conn = f\"postgres:{key}@localhost:5432/anime_db\"\n",
    "engine = create_engine(f'postgresql://{conn}')"
   ]
  },
  {
   "cell_type": "markdown",
   "metadata": {},
   "source": [
    "### Confirm created tables"
   ]
  },
  {
   "cell_type": "code",
   "execution_count": 31,
   "metadata": {},
   "outputs": [
    {
     "output_type": "execute_result",
     "data": {
      "text/plain": "['anime', 'rating', 'source_site', 'genre_anime', 'genre']"
     },
     "metadata": {},
     "execution_count": 31
    }
   ],
   "source": [
    "engine.table_names()"
   ]
  },
  {
   "cell_type": "markdown",
   "metadata": {},
   "source": [
    "### Load anime and genre dataframes to table anime and genre respectedly"
   ]
  },
  {
   "cell_type": "code",
   "execution_count": 32,
   "metadata": {},
   "outputs": [],
   "source": [
    "anime.to_sql(name='anime', con=engine, if_exists='append', index=False)\n",
    "genre.to_sql(name='genre', con=engine, if_exists='append', index=False)"
   ]
  },
  {
   "cell_type": "markdown",
   "metadata": {},
   "source": [
    "### Manually added information to source_site table from PgAdmin"
   ]
  },
  {
   "cell_type": "markdown",
   "metadata": {},
   "source": [
    "insert into source_site (source_name)\n",
    "values ('Crunchyroll'),\n",
    "\t\t('MyAnimeList');"
   ]
  },
  {
   "cell_type": "markdown",
   "metadata": {},
   "source": [
    "## Creating collection 'genre_anime'"
   ]
  },
  {
   "cell_type": "markdown",
   "metadata": {},
   "source": [
    "### Select only the columns title and genre from the merged dataframes and create a new dataframe to work with (merge_df_ag)"
   ]
  },
  {
   "cell_type": "code",
   "execution_count": 33,
   "metadata": {},
   "outputs": [
    {
     "output_type": "execute_result",
     "data": {
      "text/plain": "                                                   title           genre\n0                                      naruto shippuuden          action\n1                                            shugo chara          action\n2                                                 bleach          action\n3                                                 naruto          action\n4                                              skip beat          action\n...                                                  ...             ...\n81693  chuunibyou demo koi ga shitai kirameki no slap...          comedy\n81694  chuunibyou demo koi ga shitai kirameki no slap...           drama\n81695  chuunibyou demo koi ga shitai kirameki no slap...         romance\n81696  chuunibyou demo koi ga shitai kirameki no slap...          school\n81697  chuunibyou demo koi ga shitai kirameki no slap...   slice of life\n\n[81186 rows x 2 columns]",
      "text/html": "<div>\n<style scoped>\n    .dataframe tbody tr th:only-of-type {\n        vertical-align: middle;\n    }\n\n    .dataframe tbody tr th {\n        vertical-align: top;\n    }\n\n    .dataframe thead th {\n        text-align: right;\n    }\n</style>\n<table border=\"1\" class=\"dataframe\">\n  <thead>\n    <tr style=\"text-align: right;\">\n      <th></th>\n      <th>title</th>\n      <th>genre</th>\n    </tr>\n  </thead>\n  <tbody>\n    <tr>\n      <td>0</td>\n      <td>naruto shippuuden</td>\n      <td>action</td>\n    </tr>\n    <tr>\n      <td>1</td>\n      <td>shugo chara</td>\n      <td>action</td>\n    </tr>\n    <tr>\n      <td>2</td>\n      <td>bleach</td>\n      <td>action</td>\n    </tr>\n    <tr>\n      <td>3</td>\n      <td>naruto</td>\n      <td>action</td>\n    </tr>\n    <tr>\n      <td>4</td>\n      <td>skip beat</td>\n      <td>action</td>\n    </tr>\n    <tr>\n      <td>...</td>\n      <td>...</td>\n      <td>...</td>\n    </tr>\n    <tr>\n      <td>81693</td>\n      <td>chuunibyou demo koi ga shitai kirameki no slap...</td>\n      <td>comedy</td>\n    </tr>\n    <tr>\n      <td>81694</td>\n      <td>chuunibyou demo koi ga shitai kirameki no slap...</td>\n      <td>drama</td>\n    </tr>\n    <tr>\n      <td>81695</td>\n      <td>chuunibyou demo koi ga shitai kirameki no slap...</td>\n      <td>romance</td>\n    </tr>\n    <tr>\n      <td>81696</td>\n      <td>chuunibyou demo koi ga shitai kirameki no slap...</td>\n      <td>school</td>\n    </tr>\n    <tr>\n      <td>81697</td>\n      <td>chuunibyou demo koi ga shitai kirameki no slap...</td>\n      <td>slice of life</td>\n    </tr>\n  </tbody>\n</table>\n<p>81186 rows × 2 columns</p>\n</div>"
     },
     "metadata": {},
     "execution_count": 33
    }
   ],
   "source": [
    "merge_df_ag = merge_df[['title', 'genre']]\n",
    "merge_df_ag.drop_duplicates(inplace=True)\n",
    "merge_df_ag"
   ]
  },
  {
   "cell_type": "markdown",
   "metadata": {},
   "source": [
    "### Obtain values from the 'anime' table inside postgresql by reading the sql table"
   ]
  },
  {
   "cell_type": "code",
   "execution_count": 34,
   "metadata": {},
   "outputs": [
    {
     "output_type": "execute_result",
     "data": {
      "text/plain": "   id              title  episodes\n0   1  naruto shippuuden       500\n1   2        shugo chara        51\n2   3             bleach       366\n3   4             naruto       220\n4   5          skip beat         0",
      "text/html": "<div>\n<style scoped>\n    .dataframe tbody tr th:only-of-type {\n        vertical-align: middle;\n    }\n\n    .dataframe tbody tr th {\n        vertical-align: top;\n    }\n\n    .dataframe thead th {\n        text-align: right;\n    }\n</style>\n<table border=\"1\" class=\"dataframe\">\n  <thead>\n    <tr style=\"text-align: right;\">\n      <th></th>\n      <th>id</th>\n      <th>title</th>\n      <th>episodes</th>\n    </tr>\n  </thead>\n  <tbody>\n    <tr>\n      <td>0</td>\n      <td>1</td>\n      <td>naruto shippuuden</td>\n      <td>500</td>\n    </tr>\n    <tr>\n      <td>1</td>\n      <td>2</td>\n      <td>shugo chara</td>\n      <td>51</td>\n    </tr>\n    <tr>\n      <td>2</td>\n      <td>3</td>\n      <td>bleach</td>\n      <td>366</td>\n    </tr>\n    <tr>\n      <td>3</td>\n      <td>4</td>\n      <td>naruto</td>\n      <td>220</td>\n    </tr>\n    <tr>\n      <td>4</td>\n      <td>5</td>\n      <td>skip beat</td>\n      <td>0</td>\n    </tr>\n  </tbody>\n</table>\n</div>"
     },
     "metadata": {},
     "execution_count": 34
    }
   ],
   "source": [
    "table_anime = pd.read_sql_table('anime', engine)\n",
    "table_anime.head()"
   ]
  },
  {
   "cell_type": "markdown",
   "metadata": {},
   "source": [
    "### Obtain values from the 'genre' table inside postgresql by reading the sql table"
   ]
  },
  {
   "cell_type": "code",
   "execution_count": 35,
   "metadata": {},
   "outputs": [
    {
     "output_type": "execute_result",
     "data": {
      "text/plain": "   id genre_name\n0   1     action\n1   2  adventure\n2   3     comedy\n3   4      drama\n4   5     family",
      "text/html": "<div>\n<style scoped>\n    .dataframe tbody tr th:only-of-type {\n        vertical-align: middle;\n    }\n\n    .dataframe tbody tr th {\n        vertical-align: top;\n    }\n\n    .dataframe thead th {\n        text-align: right;\n    }\n</style>\n<table border=\"1\" class=\"dataframe\">\n  <thead>\n    <tr style=\"text-align: right;\">\n      <th></th>\n      <th>id</th>\n      <th>genre_name</th>\n    </tr>\n  </thead>\n  <tbody>\n    <tr>\n      <td>0</td>\n      <td>1</td>\n      <td>action</td>\n    </tr>\n    <tr>\n      <td>1</td>\n      <td>2</td>\n      <td>adventure</td>\n    </tr>\n    <tr>\n      <td>2</td>\n      <td>3</td>\n      <td>comedy</td>\n    </tr>\n    <tr>\n      <td>3</td>\n      <td>4</td>\n      <td>drama</td>\n    </tr>\n    <tr>\n      <td>4</td>\n      <td>5</td>\n      <td>family</td>\n    </tr>\n  </tbody>\n</table>\n</div>"
     },
     "metadata": {},
     "execution_count": 35
    }
   ],
   "source": [
    "table_genre = pd.read_sql_table('genre', engine)\n",
    "table_genre.head()"
   ]
  },
  {
   "cell_type": "markdown",
   "metadata": {},
   "source": [
    "### Merge the 'anime' & 'genre' tables with dataframe created (merge_df_ag) from the merged dataframes to cross id_anime with id_genre"
   ]
  },
  {
   "cell_type": "code",
   "execution_count": 36,
   "metadata": {},
   "outputs": [
    {
     "output_type": "execute_result",
     "data": {
      "text/plain": "                                           title    genre  id_anime  episodes  \\\n0                              naruto shippuuden   action         1       500   \n1                                    shugo chara   action         2        51   \n2                                         bleach   action         3       366   \n3                                         naruto   action         4       220   \n4                                      skip beat   action         5         0   \n...                                          ...      ...       ...       ...   \n81181          futari zamurai homare no kawakiri  samurai      8817         1   \n81182  ishinomori shoutarou no rekishi adventure  samurai     10976         5   \n81183                         nishio no yatsuzou  samurai     12237         1   \n81184               taka no tsume x megane super  samurai     12799         2   \n81185           yami no teio kyuuketsuki dracula  vampire      7860         1   \n\n       id_genre genre_name  \n0             1     action  \n1             1     action  \n2             1     action  \n3             1     action  \n4             1     action  \n...         ...        ...  \n81181        93    samurai  \n81182        93    samurai  \n81183        93    samurai  \n81184        93    samurai  \n81185        94    vampire  \n\n[81186 rows x 6 columns]",
      "text/html": "<div>\n<style scoped>\n    .dataframe tbody tr th:only-of-type {\n        vertical-align: middle;\n    }\n\n    .dataframe tbody tr th {\n        vertical-align: top;\n    }\n\n    .dataframe thead th {\n        text-align: right;\n    }\n</style>\n<table border=\"1\" class=\"dataframe\">\n  <thead>\n    <tr style=\"text-align: right;\">\n      <th></th>\n      <th>title</th>\n      <th>genre</th>\n      <th>id_anime</th>\n      <th>episodes</th>\n      <th>id_genre</th>\n      <th>genre_name</th>\n    </tr>\n  </thead>\n  <tbody>\n    <tr>\n      <td>0</td>\n      <td>naruto shippuuden</td>\n      <td>action</td>\n      <td>1</td>\n      <td>500</td>\n      <td>1</td>\n      <td>action</td>\n    </tr>\n    <tr>\n      <td>1</td>\n      <td>shugo chara</td>\n      <td>action</td>\n      <td>2</td>\n      <td>51</td>\n      <td>1</td>\n      <td>action</td>\n    </tr>\n    <tr>\n      <td>2</td>\n      <td>bleach</td>\n      <td>action</td>\n      <td>3</td>\n      <td>366</td>\n      <td>1</td>\n      <td>action</td>\n    </tr>\n    <tr>\n      <td>3</td>\n      <td>naruto</td>\n      <td>action</td>\n      <td>4</td>\n      <td>220</td>\n      <td>1</td>\n      <td>action</td>\n    </tr>\n    <tr>\n      <td>4</td>\n      <td>skip beat</td>\n      <td>action</td>\n      <td>5</td>\n      <td>0</td>\n      <td>1</td>\n      <td>action</td>\n    </tr>\n    <tr>\n      <td>...</td>\n      <td>...</td>\n      <td>...</td>\n      <td>...</td>\n      <td>...</td>\n      <td>...</td>\n      <td>...</td>\n    </tr>\n    <tr>\n      <td>81181</td>\n      <td>futari zamurai homare no kawakiri</td>\n      <td>samurai</td>\n      <td>8817</td>\n      <td>1</td>\n      <td>93</td>\n      <td>samurai</td>\n    </tr>\n    <tr>\n      <td>81182</td>\n      <td>ishinomori shoutarou no rekishi adventure</td>\n      <td>samurai</td>\n      <td>10976</td>\n      <td>5</td>\n      <td>93</td>\n      <td>samurai</td>\n    </tr>\n    <tr>\n      <td>81183</td>\n      <td>nishio no yatsuzou</td>\n      <td>samurai</td>\n      <td>12237</td>\n      <td>1</td>\n      <td>93</td>\n      <td>samurai</td>\n    </tr>\n    <tr>\n      <td>81184</td>\n      <td>taka no tsume x megane super</td>\n      <td>samurai</td>\n      <td>12799</td>\n      <td>2</td>\n      <td>93</td>\n      <td>samurai</td>\n    </tr>\n    <tr>\n      <td>81185</td>\n      <td>yami no teio kyuuketsuki dracula</td>\n      <td>vampire</td>\n      <td>7860</td>\n      <td>1</td>\n      <td>94</td>\n      <td>vampire</td>\n    </tr>\n  </tbody>\n</table>\n<p>81186 rows × 6 columns</p>\n</div>"
     },
     "metadata": {},
     "execution_count": 36
    }
   ],
   "source": [
    "merge_df_ag = merge_df_ag.merge(table_anime, on='title')\n",
    "merge_df_ag.rename(columns={'id':'id_anime'}, inplace=True)\n",
    "merge_df_ag = merge_df_ag.merge(table_genre, left_on='genre', right_on='genre_name')\n",
    "merge_df_ag.rename(columns={'id':'id_genre'}, inplace=True)\n",
    "merge_df_ag"
   ]
  },
  {
   "cell_type": "markdown",
   "metadata": {},
   "source": [
    "### Verify that we have only unique values from id_anime and id_genre"
   ]
  },
  {
   "cell_type": "code",
   "execution_count": 37,
   "metadata": {},
   "outputs": [
    {
     "output_type": "execute_result",
     "data": {
      "text/plain": "   id_anime  id_genre\n0         1         1\n1         2         1\n2         3         1\n3         4         1\n4         5         1",
      "text/html": "<div>\n<style scoped>\n    .dataframe tbody tr th:only-of-type {\n        vertical-align: middle;\n    }\n\n    .dataframe tbody tr th {\n        vertical-align: top;\n    }\n\n    .dataframe thead th {\n        text-align: right;\n    }\n</style>\n<table border=\"1\" class=\"dataframe\">\n  <thead>\n    <tr style=\"text-align: right;\">\n      <th></th>\n      <th>id_anime</th>\n      <th>id_genre</th>\n    </tr>\n  </thead>\n  <tbody>\n    <tr>\n      <td>0</td>\n      <td>1</td>\n      <td>1</td>\n    </tr>\n    <tr>\n      <td>1</td>\n      <td>2</td>\n      <td>1</td>\n    </tr>\n    <tr>\n      <td>2</td>\n      <td>3</td>\n      <td>1</td>\n    </tr>\n    <tr>\n      <td>3</td>\n      <td>4</td>\n      <td>1</td>\n    </tr>\n    <tr>\n      <td>4</td>\n      <td>5</td>\n      <td>1</td>\n    </tr>\n  </tbody>\n</table>\n</div>"
     },
     "metadata": {},
     "execution_count": 37
    }
   ],
   "source": [
    "genre_anime = merge_df_ag[['id_anime','id_genre']]\n",
    "genre_anime.drop_duplicates()\n",
    "genre_anime.head()"
   ]
  },
  {
   "cell_type": "markdown",
   "metadata": {},
   "source": [
    "### Load genre_anime dataframe created to table 'genre_anime'"
   ]
  },
  {
   "cell_type": "code",
   "execution_count": 38,
   "metadata": {},
   "outputs": [],
   "source": [
    "genre_anime.to_sql(name='genre_anime', con=engine, if_exists='append', index=False)"
   ]
  },
  {
   "cell_type": "markdown",
   "metadata": {},
   "source": [
    "## Creating collection 'rating'"
   ]
  },
  {
   "cell_type": "markdown",
   "metadata": {},
   "source": [
    "### Merge the original merged dataframes (merge_df) with the 'anime' table to obtain the id_anime"
   ]
  },
  {
   "cell_type": "code",
   "execution_count": 39,
   "metadata": {},
   "outputs": [],
   "source": [
    "rating = merge_df.merge(table_anime, on='title')"
   ]
  },
  {
   "cell_type": "markdown",
   "metadata": {},
   "source": [
    "### Rename columns to match columns inside the 'rating' table"
   ]
  },
  {
   "cell_type": "code",
   "execution_count": 40,
   "metadata": {},
   "outputs": [],
   "source": [
    "rating = rating.rename(columns={'id':'id_anime'})\n",
    "rating = rating[['score','source','id_anime']]\n",
    "rating = rating.rename(columns={'score':'rating','source':'id_source'})"
   ]
  },
  {
   "cell_type": "markdown",
   "metadata": {},
   "source": [
    "### Verify that we have only unique values from id_anime and id_source"
   ]
  },
  {
   "cell_type": "code",
   "execution_count": 41,
   "metadata": {},
   "outputs": [
    {
     "output_type": "execute_result",
     "data": {
      "text/plain": "       rating  id_source  id_anime\n0        96.2          1         1\n29       82.0          2         1\n35       97.2          1         2\n64       75.2          2         2\n68       96.6          1         3\n...       ...        ...       ...\n81681    74.8          2     16522\n81684    75.0          2     16523\n81689    75.0          2     16524\n81692    75.6          2     16525\n81693    75.6          2     16526\n\n[16937 rows x 3 columns]",
      "text/html": "<div>\n<style scoped>\n    .dataframe tbody tr th:only-of-type {\n        vertical-align: middle;\n    }\n\n    .dataframe tbody tr th {\n        vertical-align: top;\n    }\n\n    .dataframe thead th {\n        text-align: right;\n    }\n</style>\n<table border=\"1\" class=\"dataframe\">\n  <thead>\n    <tr style=\"text-align: right;\">\n      <th></th>\n      <th>rating</th>\n      <th>id_source</th>\n      <th>id_anime</th>\n    </tr>\n  </thead>\n  <tbody>\n    <tr>\n      <td>0</td>\n      <td>96.2</td>\n      <td>1</td>\n      <td>1</td>\n    </tr>\n    <tr>\n      <td>29</td>\n      <td>82.0</td>\n      <td>2</td>\n      <td>1</td>\n    </tr>\n    <tr>\n      <td>35</td>\n      <td>97.2</td>\n      <td>1</td>\n      <td>2</td>\n    </tr>\n    <tr>\n      <td>64</td>\n      <td>75.2</td>\n      <td>2</td>\n      <td>2</td>\n    </tr>\n    <tr>\n      <td>68</td>\n      <td>96.6</td>\n      <td>1</td>\n      <td>3</td>\n    </tr>\n    <tr>\n      <td>...</td>\n      <td>...</td>\n      <td>...</td>\n      <td>...</td>\n    </tr>\n    <tr>\n      <td>81681</td>\n      <td>74.8</td>\n      <td>2</td>\n      <td>16522</td>\n    </tr>\n    <tr>\n      <td>81684</td>\n      <td>75.0</td>\n      <td>2</td>\n      <td>16523</td>\n    </tr>\n    <tr>\n      <td>81689</td>\n      <td>75.0</td>\n      <td>2</td>\n      <td>16524</td>\n    </tr>\n    <tr>\n      <td>81692</td>\n      <td>75.6</td>\n      <td>2</td>\n      <td>16525</td>\n    </tr>\n    <tr>\n      <td>81693</td>\n      <td>75.6</td>\n      <td>2</td>\n      <td>16526</td>\n    </tr>\n  </tbody>\n</table>\n<p>16937 rows × 3 columns</p>\n</div>"
     },
     "metadata": {},
     "execution_count": 41
    }
   ],
   "source": [
    "rating = rating.drop_duplicates(['id_anime','id_source'])\n",
    "rating"
   ]
  },
  {
   "cell_type": "markdown",
   "metadata": {},
   "source": [
    "### Load rating dataframe created to table 'rating'"
   ]
  },
  {
   "cell_type": "code",
   "execution_count": 42,
   "metadata": {},
   "outputs": [],
   "source": [
    "rating.to_sql(name='rating', con=engine, if_exists='append', index=False)"
   ]
  },
  {
   "cell_type": "markdown",
   "metadata": {},
   "source": [
    "# Test query to verify the database"
   ]
  },
  {
   "cell_type": "markdown",
   "metadata": {},
   "source": [
    "![Test query](datamodel/test-query.png)"
   ]
  }
 ],
 "metadata": {
  "kernelspec": {
   "display_name": "Python 3",
   "language": "python",
   "name": "python3"
  },
  "language_info": {
   "codemirror_mode": {
    "name": "ipython",
    "version": 3
   },
   "file_extension": ".py",
   "mimetype": "text/x-python",
   "name": "python",
   "nbconvert_exporter": "python",
   "pygments_lexer": "ipython3",
   "version": "3.7.4-final"
  }
 },
 "nbformat": 4,
 "nbformat_minor": 2
}