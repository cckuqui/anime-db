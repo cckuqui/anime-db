{
 "cells": [
  {
   "cell_type": "code",
   "execution_count": 102,
   "metadata": {},
   "outputs": [],
   "source": [
    "import pandas as pd\n",
    "import numpy as np\n",
    "from sqlalchemy import create_engine"
   ]
  },
  {
   "cell_type": "markdown",
   "metadata": {},
   "source": [
    "## CSV Import"
   ]
  },
  {
   "cell_type": "code",
   "execution_count": 103,
   "metadata": {},
   "outputs": [],
   "source": [
    "csv_file_crunchy = \"crunchyroll.csv\"\n",
    "csv_file_mal = \"myanimelist.csv\"\n",
    "crunchy_df = pd.read_csv(csv_file_crunchy )\n",
    "mal_df = pd.read_csv(csv_file_mal)"
   ]
  },
  {
   "cell_type": "markdown",
   "metadata": {},
   "source": [
    "### Drop duplicates in column title, lower de cases, and remove non alphabeticals, and normalize rate, and score"
   ]
  },
  {
   "cell_type": "code",
   "execution_count": 104,
   "metadata": {},
   "outputs": [],
   "source": [
    "crunchy_df.drop_duplicates(subset =\"anime\", \n",
    "                     keep = \"first\", inplace = True) \n",
    "mal_df.drop_duplicates(subset =\"title\", \n",
    "                     keep =\"first\" , inplace = True) \n",
    "\n",
    "crunchy_df[\"anime\"]=crunchy_df['anime'].str.lower()\n",
    "mal_df[\"title\"]=mal_df['title'].str.lower()\n",
    "\n",
    "crunchy_df[\"anime\"]=  crunchy_df['anime'].astype(str).str.replace('[^a-z,0-9,\" \"]', '')\n",
    "mal_df[\"title\"]=mal_df['title'].astype(str).str.replace('[^a-z,0-9,\" \"]', '')\n",
    "\n",
    "crunchy_df['rate']= crunchy_df['rate']/5 *100\n",
    "mal_df['score']=mal_df['score']/10 *100"
   ]
  },
  {
   "cell_type": "markdown",
   "metadata": {},
   "source": [
    "### Cleaning Crunchyroll"
   ]
  },
  {
   "cell_type": "code",
   "execution_count": 105,
   "metadata": {
    "scrolled": true
   },
   "outputs": [
    {
     "data": {
      "text/plain": [
       "array(['anime', 'anime_url', 'anime_img', 'episodes', 'votes', 'weight',\n",
       "       'rate', 'rate_1', 'rate_2', 'rate_3', 'rate_4', 'rate_5',\n",
       "       'genre_action', 'genre_adventure', 'genre_comedy', 'genre_drama',\n",
       "       'genre_family', 'genre_fantasy', 'genre_food', 'genre_harem',\n",
       "       'genre_historical', 'genre_horror', 'genre_idols', 'genre_isekai',\n",
       "       'genre_jdrama', 'genre_magical girls', 'genre_martial arts',\n",
       "       'genre_mecha', 'genre_music', 'genre_mystery',\n",
       "       'genre_post-apocalyptic', 'genre_romance', 'genre_sci-fi',\n",
       "       'genre_seinen', 'genre_sgdrama', 'genre_shojo', 'genre_shonen',\n",
       "       'genre_slice of life', 'genre_sports', 'genre_supernatural',\n",
       "       'genre_thriller'], dtype=object)"
      ]
     },
     "execution_count": 105,
     "metadata": {},
     "output_type": "execute_result"
    }
   ],
   "source": [
    "crunchy_df.columns.values"
   ]
  },
  {
   "cell_type": "code",
   "execution_count": 107,
   "metadata": {},
   "outputs": [],
   "source": [
    "crunchy_df_2 = pd.melt(crunchy_df, id_vars=['anime', 'anime_url','episodes','rate'], value_vars=['genre_action', 'genre_adventure', 'genre_comedy', 'genre_drama',\n",
    "       'genre_family', 'genre_fantasy', 'genre_food', 'genre_harem',\n",
    "       'genre_historical', 'genre_horror', 'genre_idols', 'genre_isekai',\n",
    "       'genre_jdrama', 'genre_magical girls', 'genre_martial arts',\n",
    "       'genre_mecha', 'genre_music', 'genre_mystery',\n",
    "       'genre_post-apocalyptic', 'genre_romance', 'genre_sci-fi',\n",
    "       'genre_seinen', 'genre_sgdrama', 'genre_shojo', 'genre_shonen',\n",
    "       'genre_slice of life', 'genre_sports', 'genre_supernatural',\n",
    "       'genre_thriller'])"
   ]
  },
  {
   "cell_type": "code",
   "execution_count": 110,
   "metadata": {
    "scrolled": true
   },
   "outputs": [
    {
     "data": {
      "text/html": [
       "<div>\n",
       "<style scoped>\n",
       "    .dataframe tbody tr th:only-of-type {\n",
       "        vertical-align: middle;\n",
       "    }\n",
       "\n",
       "    .dataframe tbody tr th {\n",
       "        vertical-align: top;\n",
       "    }\n",
       "\n",
       "    .dataframe thead th {\n",
       "        text-align: right;\n",
       "    }\n",
       "</style>\n",
       "<table border=\"1\" class=\"dataframe\">\n",
       "  <thead>\n",
       "    <tr style=\"text-align: right;\">\n",
       "      <th></th>\n",
       "      <th>anime</th>\n",
       "      <th>anime_url</th>\n",
       "      <th>episodes</th>\n",
       "      <th>rate</th>\n",
       "      <th>variable</th>\n",
       "      <th>value</th>\n",
       "    </tr>\n",
       "  </thead>\n",
       "  <tbody>\n",
       "    <tr>\n",
       "      <th>0</th>\n",
       "      <td>naruto shippuuden</td>\n",
       "      <td>https://www.crunchyroll.com/naruto-shippuden</td>\n",
       "      <td>500</td>\n",
       "      <td>96.2</td>\n",
       "      <td>genre_action</td>\n",
       "      <td>0.0</td>\n",
       "    </tr>\n",
       "    <tr>\n",
       "      <th>1</th>\n",
       "      <td>shugo chara</td>\n",
       "      <td>https://www.crunchyroll.com/shugo-chara</td>\n",
       "      <td>51</td>\n",
       "      <td>97.2</td>\n",
       "      <td>genre_action</td>\n",
       "      <td>0.0</td>\n",
       "    </tr>\n",
       "    <tr>\n",
       "      <th>2</th>\n",
       "      <td>bleach</td>\n",
       "      <td>https://www.crunchyroll.com/bleach</td>\n",
       "      <td>366</td>\n",
       "      <td>96.6</td>\n",
       "      <td>genre_action</td>\n",
       "      <td>0.0</td>\n",
       "    </tr>\n",
       "    <tr>\n",
       "      <th>3</th>\n",
       "      <td>naruto</td>\n",
       "      <td>https://www.crunchyroll.com/naruto</td>\n",
       "      <td>220</td>\n",
       "      <td>96.0</td>\n",
       "      <td>genre_action</td>\n",
       "      <td>0.0</td>\n",
       "    </tr>\n",
       "    <tr>\n",
       "      <th>4</th>\n",
       "      <td>skip beat</td>\n",
       "      <td>https://www.crunchyroll.com/skip-beat</td>\n",
       "      <td>0</td>\n",
       "      <td>98.2</td>\n",
       "      <td>genre_action</td>\n",
       "      <td>0.0</td>\n",
       "    </tr>\n",
       "  </tbody>\n",
       "</table>\n",
       "</div>"
      ],
      "text/plain": [
       "               anime                                     anime_url  episodes  \\\n",
       "0  naruto shippuuden  https://www.crunchyroll.com/naruto-shippuden       500   \n",
       "1        shugo chara       https://www.crunchyroll.com/shugo-chara        51   \n",
       "2             bleach            https://www.crunchyroll.com/bleach       366   \n",
       "3             naruto            https://www.crunchyroll.com/naruto       220   \n",
       "4          skip beat         https://www.crunchyroll.com/skip-beat         0   \n",
       "\n",
       "   rate      variable  value  \n",
       "0  96.2  genre_action    0.0  \n",
       "1  97.2  genre_action    0.0  \n",
       "2  96.6  genre_action    0.0  \n",
       "3  96.0  genre_action    0.0  \n",
       "4  98.2  genre_action    0.0  "
      ]
     },
     "execution_count": 110,
     "metadata": {},
     "output_type": "execute_result"
    }
   ],
   "source": [
    "crunchy_df_2.head(5)\n"
   ]
  },
  {
   "cell_type": "code",
   "execution_count": 45,
   "metadata": {},
   "outputs": [],
   "source": [
    "crunchy_df = crunchy_df[['anime', 'anime_url', 'episodes','rate']].copy()"
   ]
  },
  {
   "cell_type": "markdown",
   "metadata": {},
   "source": [
    "### Cleaning MyAnimeList"
   ]
  },
  {
   "cell_type": "code",
   "execution_count": 106,
   "metadata": {},
   "outputs": [
    {
     "data": {
      "text/plain": [
       "array(['uid', 'title', 'synopsis', 'genre', 'aired', 'episodes',\n",
       "       'members', 'popularity', 'ranked', 'score', 'img_url', 'link'],\n",
       "      dtype=object)"
      ]
     },
     "execution_count": 106,
     "metadata": {},
     "output_type": "execute_result"
    }
   ],
   "source": [
    "mal_df.columns.values"
   ]
  },
  {
   "cell_type": "code",
   "execution_count": 108,
   "metadata": {},
   "outputs": [],
   "source": [
    "  \n",
    "# rows list initialization \n",
    "title=[]\n",
    "episodes = []\n",
    "score =[]\n",
    "link= []\n",
    "genre=[]\n",
    "for index, data in mal_df.iterrows():\n",
    "  \n",
    "   \n",
    "     \n",
    "    time = data['genre'] \n",
    "    time=time.replace('[', '') \n",
    "    time=time.replace(']','')\n",
    "    time= time.split(',')\n",
    "    \n",
    "    for row in time:\n",
    "        genre.append(row)\n",
    "        title.append(data['title'])\n",
    "        episodes.append(data['episodes'])\n",
    "        score.append(data['score'])\n",
    "        link.append(data['link'])\n",
    "        \n"
   ]
  },
  {
   "cell_type": "code",
   "execution_count": 109,
   "metadata": {},
   "outputs": [],
   "source": [
    "dict = {'title': title,'link':link,'episodes': episodes,'score':score, 'genre':genre} \n",
    "mal_df_2 = pd.DataFrame(dict)"
   ]
  },
  {
   "cell_type": "code",
   "execution_count": 111,
   "metadata": {
    "scrolled": false
   },
   "outputs": [
    {
     "data": {
      "text/html": [
       "<div>\n",
       "<style scoped>\n",
       "    .dataframe tbody tr th:only-of-type {\n",
       "        vertical-align: middle;\n",
       "    }\n",
       "\n",
       "    .dataframe tbody tr th {\n",
       "        vertical-align: top;\n",
       "    }\n",
       "\n",
       "    .dataframe thead th {\n",
       "        text-align: right;\n",
       "    }\n",
       "</style>\n",
       "<table border=\"1\" class=\"dataframe\">\n",
       "  <thead>\n",
       "    <tr style=\"text-align: right;\">\n",
       "      <th></th>\n",
       "      <th>title</th>\n",
       "      <th>link</th>\n",
       "      <th>episodes</th>\n",
       "      <th>score</th>\n",
       "      <th>genre</th>\n",
       "    </tr>\n",
       "  </thead>\n",
       "  <tbody>\n",
       "    <tr>\n",
       "      <th>0</th>\n",
       "      <td>haikyuu second season</td>\n",
       "      <td>https://myanimelist.net/anime/28891/Haikyuu_Se...</td>\n",
       "      <td>25.0</td>\n",
       "      <td>88.2</td>\n",
       "      <td>'Comedy'</td>\n",
       "    </tr>\n",
       "    <tr>\n",
       "      <th>1</th>\n",
       "      <td>haikyuu second season</td>\n",
       "      <td>https://myanimelist.net/anime/28891/Haikyuu_Se...</td>\n",
       "      <td>25.0</td>\n",
       "      <td>88.2</td>\n",
       "      <td>'Sports'</td>\n",
       "    </tr>\n",
       "    <tr>\n",
       "      <th>2</th>\n",
       "      <td>haikyuu second season</td>\n",
       "      <td>https://myanimelist.net/anime/28891/Haikyuu_Se...</td>\n",
       "      <td>25.0</td>\n",
       "      <td>88.2</td>\n",
       "      <td>'Drama'</td>\n",
       "    </tr>\n",
       "    <tr>\n",
       "      <th>3</th>\n",
       "      <td>haikyuu second season</td>\n",
       "      <td>https://myanimelist.net/anime/28891/Haikyuu_Se...</td>\n",
       "      <td>25.0</td>\n",
       "      <td>88.2</td>\n",
       "      <td>'School'</td>\n",
       "    </tr>\n",
       "    <tr>\n",
       "      <th>4</th>\n",
       "      <td>haikyuu second season</td>\n",
       "      <td>https://myanimelist.net/anime/28891/Haikyuu_Se...</td>\n",
       "      <td>25.0</td>\n",
       "      <td>88.2</td>\n",
       "      <td>'Shounen'</td>\n",
       "    </tr>\n",
       "  </tbody>\n",
       "</table>\n",
       "</div>"
      ],
      "text/plain": [
       "                   title                                               link  \\\n",
       "0  haikyuu second season  https://myanimelist.net/anime/28891/Haikyuu_Se...   \n",
       "1  haikyuu second season  https://myanimelist.net/anime/28891/Haikyuu_Se...   \n",
       "2  haikyuu second season  https://myanimelist.net/anime/28891/Haikyuu_Se...   \n",
       "3  haikyuu second season  https://myanimelist.net/anime/28891/Haikyuu_Se...   \n",
       "4  haikyuu second season  https://myanimelist.net/anime/28891/Haikyuu_Se...   \n",
       "\n",
       "   episodes  score       genre  \n",
       "0      25.0   88.2    'Comedy'  \n",
       "1      25.0   88.2    'Sports'  \n",
       "2      25.0   88.2     'Drama'  \n",
       "3      25.0   88.2    'School'  \n",
       "4      25.0   88.2   'Shounen'  "
      ]
     },
     "execution_count": 111,
     "metadata": {},
     "output_type": "execute_result"
    }
   ],
   "source": [
    "\n",
    "mal_df_2.head()\n",
    "\n"
   ]
  },
  {
   "cell_type": "markdown",
   "metadata": {},
   "source": [
    "# Transformations to data"
   ]
  },
  {
   "cell_type": "code",
   "execution_count": 112,
   "metadata": {
    "scrolled": true
   },
   "outputs": [],
   "source": [
    "crunchy_df_2=crunchy_df_2.drop(['value'],axis=1)\n",
    "crunchy_df_2['variable'] = crunchy_df_2['variable'].str.replace('genre_', '').astype(str)\n",
    "crunchy_df_2 = crunchy_df_2.rename(columns={\"anime\": \"title\",\"anime_url\":\"url\", \"rate\":\"score\",\"variable\":\"genre\"})\n"
   ]
  },
  {
   "cell_type": "code",
   "execution_count": 113,
   "metadata": {},
   "outputs": [
    {
     "data": {
      "text/html": [
       "<div>\n",
       "<style scoped>\n",
       "    .dataframe tbody tr th:only-of-type {\n",
       "        vertical-align: middle;\n",
       "    }\n",
       "\n",
       "    .dataframe tbody tr th {\n",
       "        vertical-align: top;\n",
       "    }\n",
       "\n",
       "    .dataframe thead th {\n",
       "        text-align: right;\n",
       "    }\n",
       "</style>\n",
       "<table border=\"1\" class=\"dataframe\">\n",
       "  <thead>\n",
       "    <tr style=\"text-align: right;\">\n",
       "      <th></th>\n",
       "      <th>title</th>\n",
       "      <th>url</th>\n",
       "      <th>episodes</th>\n",
       "      <th>score</th>\n",
       "      <th>genre</th>\n",
       "    </tr>\n",
       "  </thead>\n",
       "  <tbody>\n",
       "    <tr>\n",
       "      <th>0</th>\n",
       "      <td>naruto shippuuden</td>\n",
       "      <td>https://www.crunchyroll.com/naruto-shippuden</td>\n",
       "      <td>500</td>\n",
       "      <td>96.2</td>\n",
       "      <td>action</td>\n",
       "    </tr>\n",
       "    <tr>\n",
       "      <th>1</th>\n",
       "      <td>shugo chara</td>\n",
       "      <td>https://www.crunchyroll.com/shugo-chara</td>\n",
       "      <td>51</td>\n",
       "      <td>97.2</td>\n",
       "      <td>action</td>\n",
       "    </tr>\n",
       "    <tr>\n",
       "      <th>2</th>\n",
       "      <td>bleach</td>\n",
       "      <td>https://www.crunchyroll.com/bleach</td>\n",
       "      <td>366</td>\n",
       "      <td>96.6</td>\n",
       "      <td>action</td>\n",
       "    </tr>\n",
       "    <tr>\n",
       "      <th>3</th>\n",
       "      <td>naruto</td>\n",
       "      <td>https://www.crunchyroll.com/naruto</td>\n",
       "      <td>220</td>\n",
       "      <td>96.0</td>\n",
       "      <td>action</td>\n",
       "    </tr>\n",
       "    <tr>\n",
       "      <th>4</th>\n",
       "      <td>skip beat</td>\n",
       "      <td>https://www.crunchyroll.com/skip-beat</td>\n",
       "      <td>0</td>\n",
       "      <td>98.2</td>\n",
       "      <td>action</td>\n",
       "    </tr>\n",
       "  </tbody>\n",
       "</table>\n",
       "</div>"
      ],
      "text/plain": [
       "               title                                           url  episodes  \\\n",
       "0  naruto shippuuden  https://www.crunchyroll.com/naruto-shippuden       500   \n",
       "1        shugo chara       https://www.crunchyroll.com/shugo-chara        51   \n",
       "2             bleach            https://www.crunchyroll.com/bleach       366   \n",
       "3             naruto            https://www.crunchyroll.com/naruto       220   \n",
       "4          skip beat         https://www.crunchyroll.com/skip-beat         0   \n",
       "\n",
       "   score   genre  \n",
       "0   96.2  action  \n",
       "1   97.2  action  \n",
       "2   96.6  action  \n",
       "3   96.0  action  \n",
       "4   98.2  action  "
      ]
     },
     "execution_count": 113,
     "metadata": {},
     "output_type": "execute_result"
    }
   ],
   "source": [
    "crunchy_df_2.head(5)"
   ]
  },
  {
   "cell_type": "code",
   "execution_count": 115,
   "metadata": {},
   "outputs": [],
   "source": [
    "mal_df_2['genre'] = mal_df_2['genre'].str.replace(\"'\", '').astype(str)\n",
    "mal_df_2[\"genre\"]=mal_df_2['genre'].str.lower()\n",
    "mal_df_2 = mal_df_2[mal_df_2['episodes'].notnull()]\n",
    "mal_df_2['episodes'] = mal_df_2['episodes'].astype(int)\n",
    "mal_df_2 = mal_df_2.rename(columns={\"link\":\"url\"})"
   ]
  },
  {
   "cell_type": "code",
   "execution_count": 116,
   "metadata": {},
   "outputs": [
    {
     "data": {
      "text/html": [
       "<div>\n",
       "<style scoped>\n",
       "    .dataframe tbody tr th:only-of-type {\n",
       "        vertical-align: middle;\n",
       "    }\n",
       "\n",
       "    .dataframe tbody tr th {\n",
       "        vertical-align: top;\n",
       "    }\n",
       "\n",
       "    .dataframe thead th {\n",
       "        text-align: right;\n",
       "    }\n",
       "</style>\n",
       "<table border=\"1\" class=\"dataframe\">\n",
       "  <thead>\n",
       "    <tr style=\"text-align: right;\">\n",
       "      <th></th>\n",
       "      <th>title</th>\n",
       "      <th>url</th>\n",
       "      <th>episodes</th>\n",
       "      <th>score</th>\n",
       "      <th>genre</th>\n",
       "    </tr>\n",
       "  </thead>\n",
       "  <tbody>\n",
       "    <tr>\n",
       "      <th>0</th>\n",
       "      <td>haikyuu second season</td>\n",
       "      <td>https://myanimelist.net/anime/28891/Haikyuu_Se...</td>\n",
       "      <td>25</td>\n",
       "      <td>88.2</td>\n",
       "      <td>comedy</td>\n",
       "    </tr>\n",
       "    <tr>\n",
       "      <th>1</th>\n",
       "      <td>haikyuu second season</td>\n",
       "      <td>https://myanimelist.net/anime/28891/Haikyuu_Se...</td>\n",
       "      <td>25</td>\n",
       "      <td>88.2</td>\n",
       "      <td>sports</td>\n",
       "    </tr>\n",
       "    <tr>\n",
       "      <th>2</th>\n",
       "      <td>haikyuu second season</td>\n",
       "      <td>https://myanimelist.net/anime/28891/Haikyuu_Se...</td>\n",
       "      <td>25</td>\n",
       "      <td>88.2</td>\n",
       "      <td>drama</td>\n",
       "    </tr>\n",
       "    <tr>\n",
       "      <th>3</th>\n",
       "      <td>haikyuu second season</td>\n",
       "      <td>https://myanimelist.net/anime/28891/Haikyuu_Se...</td>\n",
       "      <td>25</td>\n",
       "      <td>88.2</td>\n",
       "      <td>school</td>\n",
       "    </tr>\n",
       "    <tr>\n",
       "      <th>4</th>\n",
       "      <td>haikyuu second season</td>\n",
       "      <td>https://myanimelist.net/anime/28891/Haikyuu_Se...</td>\n",
       "      <td>25</td>\n",
       "      <td>88.2</td>\n",
       "      <td>shounen</td>\n",
       "    </tr>\n",
       "  </tbody>\n",
       "</table>\n",
       "</div>"
      ],
      "text/plain": [
       "                   title                                                url  \\\n",
       "0  haikyuu second season  https://myanimelist.net/anime/28891/Haikyuu_Se...   \n",
       "1  haikyuu second season  https://myanimelist.net/anime/28891/Haikyuu_Se...   \n",
       "2  haikyuu second season  https://myanimelist.net/anime/28891/Haikyuu_Se...   \n",
       "3  haikyuu second season  https://myanimelist.net/anime/28891/Haikyuu_Se...   \n",
       "4  haikyuu second season  https://myanimelist.net/anime/28891/Haikyuu_Se...   \n",
       "\n",
       "   episodes  score     genre  \n",
       "0        25   88.2    comedy  \n",
       "1        25   88.2    sports  \n",
       "2        25   88.2     drama  \n",
       "3        25   88.2    school  \n",
       "4        25   88.2   shounen  "
      ]
     },
     "execution_count": 116,
     "metadata": {},
     "output_type": "execute_result"
    }
   ],
   "source": [
    "mal_df_2.head(5)"
   ]
  },
  {
   "cell_type": "code",
   "execution_count": 117,
   "metadata": {
    "scrolled": true
   },
   "outputs": [
    {
     "data": {
      "text/plain": [
       "title        object\n",
       "url          object\n",
       "episodes      int64\n",
       "score       float64\n",
       "genre        object\n",
       "dtype: object"
      ]
     },
     "execution_count": 117,
     "metadata": {},
     "output_type": "execute_result"
    }
   ],
   "source": [
    "crunchy_df_2.dtypes"
   ]
  },
  {
   "cell_type": "code",
   "execution_count": 118,
   "metadata": {
    "scrolled": true
   },
   "outputs": [
    {
     "data": {
      "text/plain": [
       "title        object\n",
       "url          object\n",
       "episodes      int64\n",
       "score       float64\n",
       "genre        object\n",
       "dtype: object"
      ]
     },
     "execution_count": 118,
     "metadata": {},
     "output_type": "execute_result"
    }
   ],
   "source": [
    "mal_df_2.dtypes"
   ]
  },
  {
   "cell_type": "markdown",
   "metadata": {},
   "source": [
    "# Append data frames, and reset index"
   ]
  },
  {
   "cell_type": "code",
   "execution_count": 119,
   "metadata": {},
   "outputs": [
    {
     "data": {
      "text/plain": [
       "(81698, 5)"
      ]
     },
     "execution_count": 119,
     "metadata": {},
     "output_type": "execute_result"
    }
   ],
   "source": [
    "merge_df =crunchy_df_2.append(mal_df_2, ignore_index=True)\n",
    "merge_df.shape"
   ]
  },
  {
   "cell_type": "code",
   "execution_count": 120,
   "metadata": {},
   "outputs": [
    {
     "data": {
      "text/plain": [
       "Index(['title', 'url', 'episodes', 'score', 'genre'], dtype='object')"
      ]
     },
     "execution_count": 120,
     "metadata": {},
     "output_type": "execute_result"
    }
   ],
   "source": [
    "merge_df.columns"
   ]
  },
  {
   "cell_type": "code",
   "execution_count": 121,
   "metadata": {},
   "outputs": [
    {
     "data": {
      "text/html": [
       "<div>\n",
       "<style scoped>\n",
       "    .dataframe tbody tr th:only-of-type {\n",
       "        vertical-align: middle;\n",
       "    }\n",
       "\n",
       "    .dataframe tbody tr th {\n",
       "        vertical-align: top;\n",
       "    }\n",
       "\n",
       "    .dataframe thead th {\n",
       "        text-align: right;\n",
       "    }\n",
       "</style>\n",
       "<table border=\"1\" class=\"dataframe\">\n",
       "  <thead>\n",
       "    <tr style=\"text-align: right;\">\n",
       "      <th></th>\n",
       "      <th>title</th>\n",
       "      <th>url</th>\n",
       "      <th>episodes</th>\n",
       "      <th>score</th>\n",
       "      <th>genre</th>\n",
       "    </tr>\n",
       "  </thead>\n",
       "  <tbody>\n",
       "    <tr>\n",
       "      <th>0</th>\n",
       "      <td>naruto shippuuden</td>\n",
       "      <td>https://www.crunchyroll.com/naruto-shippuden</td>\n",
       "      <td>500</td>\n",
       "      <td>96.2</td>\n",
       "      <td>action</td>\n",
       "    </tr>\n",
       "    <tr>\n",
       "      <th>1</th>\n",
       "      <td>shugo chara</td>\n",
       "      <td>https://www.crunchyroll.com/shugo-chara</td>\n",
       "      <td>51</td>\n",
       "      <td>97.2</td>\n",
       "      <td>action</td>\n",
       "    </tr>\n",
       "    <tr>\n",
       "      <th>2</th>\n",
       "      <td>bleach</td>\n",
       "      <td>https://www.crunchyroll.com/bleach</td>\n",
       "      <td>366</td>\n",
       "      <td>96.6</td>\n",
       "      <td>action</td>\n",
       "    </tr>\n",
       "    <tr>\n",
       "      <th>3</th>\n",
       "      <td>naruto</td>\n",
       "      <td>https://www.crunchyroll.com/naruto</td>\n",
       "      <td>220</td>\n",
       "      <td>96.0</td>\n",
       "      <td>action</td>\n",
       "    </tr>\n",
       "    <tr>\n",
       "      <th>4</th>\n",
       "      <td>skip beat</td>\n",
       "      <td>https://www.crunchyroll.com/skip-beat</td>\n",
       "      <td>0</td>\n",
       "      <td>98.2</td>\n",
       "      <td>action</td>\n",
       "    </tr>\n",
       "    <tr>\n",
       "      <th>...</th>\n",
       "      <td>...</td>\n",
       "      <td>...</td>\n",
       "      <td>...</td>\n",
       "      <td>...</td>\n",
       "      <td>...</td>\n",
       "    </tr>\n",
       "    <tr>\n",
       "      <th>81693</th>\n",
       "      <td>chuunibyou demo koi ga shitai kirameki no slap...</td>\n",
       "      <td>https://myanimelist.net/anime/16934/Chuunibyou...</td>\n",
       "      <td>1</td>\n",
       "      <td>75.6</td>\n",
       "      <td>comedy</td>\n",
       "    </tr>\n",
       "    <tr>\n",
       "      <th>81694</th>\n",
       "      <td>chuunibyou demo koi ga shitai kirameki no slap...</td>\n",
       "      <td>https://myanimelist.net/anime/16934/Chuunibyou...</td>\n",
       "      <td>1</td>\n",
       "      <td>75.6</td>\n",
       "      <td>drama</td>\n",
       "    </tr>\n",
       "    <tr>\n",
       "      <th>81695</th>\n",
       "      <td>chuunibyou demo koi ga shitai kirameki no slap...</td>\n",
       "      <td>https://myanimelist.net/anime/16934/Chuunibyou...</td>\n",
       "      <td>1</td>\n",
       "      <td>75.6</td>\n",
       "      <td>romance</td>\n",
       "    </tr>\n",
       "    <tr>\n",
       "      <th>81696</th>\n",
       "      <td>chuunibyou demo koi ga shitai kirameki no slap...</td>\n",
       "      <td>https://myanimelist.net/anime/16934/Chuunibyou...</td>\n",
       "      <td>1</td>\n",
       "      <td>75.6</td>\n",
       "      <td>school</td>\n",
       "    </tr>\n",
       "    <tr>\n",
       "      <th>81697</th>\n",
       "      <td>chuunibyou demo koi ga shitai kirameki no slap...</td>\n",
       "      <td>https://myanimelist.net/anime/16934/Chuunibyou...</td>\n",
       "      <td>1</td>\n",
       "      <td>75.6</td>\n",
       "      <td>slice of life</td>\n",
       "    </tr>\n",
       "  </tbody>\n",
       "</table>\n",
       "<p>81698 rows × 5 columns</p>\n",
       "</div>"
      ],
      "text/plain": [
       "                                                   title  \\\n",
       "0                                      naruto shippuuden   \n",
       "1                                            shugo chara   \n",
       "2                                                 bleach   \n",
       "3                                                 naruto   \n",
       "4                                              skip beat   \n",
       "...                                                  ...   \n",
       "81693  chuunibyou demo koi ga shitai kirameki no slap...   \n",
       "81694  chuunibyou demo koi ga shitai kirameki no slap...   \n",
       "81695  chuunibyou demo koi ga shitai kirameki no slap...   \n",
       "81696  chuunibyou demo koi ga shitai kirameki no slap...   \n",
       "81697  chuunibyou demo koi ga shitai kirameki no slap...   \n",
       "\n",
       "                                                     url  episodes  score  \\\n",
       "0           https://www.crunchyroll.com/naruto-shippuden       500   96.2   \n",
       "1                https://www.crunchyroll.com/shugo-chara        51   97.2   \n",
       "2                     https://www.crunchyroll.com/bleach       366   96.6   \n",
       "3                     https://www.crunchyroll.com/naruto       220   96.0   \n",
       "4                  https://www.crunchyroll.com/skip-beat         0   98.2   \n",
       "...                                                  ...       ...    ...   \n",
       "81693  https://myanimelist.net/anime/16934/Chuunibyou...         1   75.6   \n",
       "81694  https://myanimelist.net/anime/16934/Chuunibyou...         1   75.6   \n",
       "81695  https://myanimelist.net/anime/16934/Chuunibyou...         1   75.6   \n",
       "81696  https://myanimelist.net/anime/16934/Chuunibyou...         1   75.6   \n",
       "81697  https://myanimelist.net/anime/16934/Chuunibyou...         1   75.6   \n",
       "\n",
       "                genre  \n",
       "0              action  \n",
       "1              action  \n",
       "2              action  \n",
       "3              action  \n",
       "4              action  \n",
       "...               ...  \n",
       "81693          comedy  \n",
       "81694           drama  \n",
       "81695         romance  \n",
       "81696          school  \n",
       "81697   slice of life  \n",
       "\n",
       "[81698 rows x 5 columns]"
      ]
     },
     "execution_count": 121,
     "metadata": {},
     "output_type": "execute_result"
    }
   ],
   "source": [
    "#ready to use dataframe, from here we shoul extract the relational tables for sql database\n",
    "merge_df"
   ]
  },
  {
   "cell_type": "markdown",
   "metadata": {},
   "source": [
    "## Dataframe per table"
   ]
  },
  {
   "cell_type": "code",
   "execution_count": null,
   "metadata": {},
   "outputs": [],
   "source": []
  }
 ],
 "metadata": {
  "kernelspec": {
   "display_name": "Python 3",
   "language": "python",
   "name": "python3"
  },
  "language_info": {
   "codemirror_mode": {
    "name": "ipython",
    "version": 3
   },
   "file_extension": ".py",
   "mimetype": "text/x-python",
   "name": "python",
   "nbconvert_exporter": "python",
   "pygments_lexer": "ipython3",
   "version": "3.7.4"
  }
 },
 "nbformat": 4,
 "nbformat_minor": 2
}