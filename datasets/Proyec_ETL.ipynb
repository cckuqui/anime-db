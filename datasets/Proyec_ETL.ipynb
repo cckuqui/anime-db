{
 "cells": [
  {
   "cell_type": "code",
   "execution_count": 38,
   "metadata": {},
   "outputs": [],
   "source": [
    "import pandas as pd\n",
    "import numpy as np\n",
    "from sqlalchemy import create_engine"
   ]
  },
  {
   "cell_type": "markdown",
   "metadata": {},
   "source": [
    "## CSV Import"
   ]
  },
  {
   "cell_type": "code",
   "execution_count": 39,
   "metadata": {},
   "outputs": [],
   "source": [
    "csv_file_crunchy = \"crunchyroll.csv\"\n",
    "csv_file_mal = \"myanimelist.csv\"\n",
    "crunchy_df = pd.read_csv(csv_file_crunchy )\n",
    "mal_df = pd.read_csv(csv_file_mal)"
   ]
  },
  {
   "cell_type": "markdown",
   "metadata": {},
   "source": [
    "### Drop duplicates in column title, lower de cases, and remove non alphabeticals, and normalize rate, and score"
   ]
  },
  {
   "cell_type": "code",
   "execution_count": 40,
   "metadata": {},
   "outputs": [],
   "source": [
    "crunchy_df.drop_duplicates(subset =\"anime\", \n",
    "                     keep = \"first\", inplace = True) \n",
    "mal_df.drop_duplicates(subset =\"title\", \n",
    "                     keep =\"first\" , inplace = True) \n",
    "\n",
    "crunchy_df[\"anime\"]=crunchy_df['anime'].str.lower()\n",
    "mal_df[\"title\"]=mal_df['title'].str.lower()\n",
    "\n",
    "crunchy_df[\"anime\"]=  crunchy_df['anime'].astype(str).str.replace('[^a-z,0-9,\" \"]', '')\n",
    "mal_df[\"title\"]=mal_df['title'].astype(str).str.replace('[^a-z,0-9,\" \"]', '')\n",
    "\n",
    "crunchy_df['rate']= crunchy_df['rate']/5 *100\n",
    "mal_df['score']=mal_df['score']/10 *100"
   ]
  },
  {
   "cell_type": "markdown",
   "metadata": {},
   "source": [
    "### Cleaning Crunchyroll"
   ]
  },
  {
   "cell_type": "code",
   "execution_count": 41,
   "metadata": {
    "scrolled": true
   },
   "outputs": [
    {
     "output_type": "execute_result",
     "data": {
      "text/plain": "array(['anime', 'anime_url', 'anime_img', 'episodes', 'votes', 'weight',\n       'rate', 'rate_1', 'rate_2', 'rate_3', 'rate_4', 'rate_5',\n       'genre_action', 'genre_adventure', 'genre_comedy', 'genre_drama',\n       'genre_family', 'genre_fantasy', 'genre_food', 'genre_harem',\n       'genre_historical', 'genre_horror', 'genre_idols', 'genre_isekai',\n       'genre_jdrama', 'genre_magical girls', 'genre_martial arts',\n       'genre_mecha', 'genre_music', 'genre_mystery',\n       'genre_post-apocalyptic', 'genre_romance', 'genre_sci-fi',\n       'genre_seinen', 'genre_sgdrama', 'genre_shojo', 'genre_shonen',\n       'genre_slice of life', 'genre_sports', 'genre_supernatural',\n       'genre_thriller'], dtype=object)"
     },
     "metadata": {},
     "execution_count": 41
    }
   ],
   "source": [
    "crunchy_df.columns.values"
   ]
  },
  {
   "cell_type": "code",
   "execution_count": 42,
   "metadata": {},
   "outputs": [],
   "source": [
    "crunchy_df_melt = pd.melt(crunchy_df, id_vars=['anime', 'anime_url','episodes','rate'], value_vars=['genre_action', 'genre_adventure', 'genre_comedy', 'genre_drama',\n",
    "       'genre_family', 'genre_fantasy', 'genre_food', 'genre_harem',\n",
    "       'genre_historical', 'genre_horror', 'genre_idols', 'genre_isekai',\n",
    "       'genre_jdrama', 'genre_magical girls', 'genre_martial arts',\n",
    "       'genre_mecha', 'genre_music', 'genre_mystery',\n",
    "       'genre_post-apocalyptic', 'genre_romance', 'genre_sci-fi',\n",
    "       'genre_seinen', 'genre_sgdrama', 'genre_shojo', 'genre_shonen',\n",
    "       'genre_slice of life', 'genre_sports', 'genre_supernatural',\n",
    "       'genre_thriller'])"
   ]
  },
  {
   "cell_type": "code",
   "execution_count": 43,
   "metadata": {
    "scrolled": true
   },
   "outputs": [
    {
     "output_type": "execute_result",
     "data": {
      "text/plain": "               anime                                     anime_url  episodes  \\\n0  naruto shippuuden  https://www.crunchyroll.com/naruto-shippuden       500   \n1        shugo chara       https://www.crunchyroll.com/shugo-chara        51   \n2             bleach            https://www.crunchyroll.com/bleach       366   \n3             naruto            https://www.crunchyroll.com/naruto       220   \n4          skip beat         https://www.crunchyroll.com/skip-beat         0   \n\n   rate      variable  value  \n0  96.2  genre_action    0.0  \n1  97.2  genre_action    0.0  \n2  96.6  genre_action    0.0  \n3  96.0  genre_action    0.0  \n4  98.2  genre_action    0.0  ",
      "text/html": "<div>\n<style scoped>\n    .dataframe tbody tr th:only-of-type {\n        vertical-align: middle;\n    }\n\n    .dataframe tbody tr th {\n        vertical-align: top;\n    }\n\n    .dataframe thead th {\n        text-align: right;\n    }\n</style>\n<table border=\"1\" class=\"dataframe\">\n  <thead>\n    <tr style=\"text-align: right;\">\n      <th></th>\n      <th>anime</th>\n      <th>anime_url</th>\n      <th>episodes</th>\n      <th>rate</th>\n      <th>variable</th>\n      <th>value</th>\n    </tr>\n  </thead>\n  <tbody>\n    <tr>\n      <td>0</td>\n      <td>naruto shippuuden</td>\n      <td>https://www.crunchyroll.com/naruto-shippuden</td>\n      <td>500</td>\n      <td>96.2</td>\n      <td>genre_action</td>\n      <td>0.0</td>\n    </tr>\n    <tr>\n      <td>1</td>\n      <td>shugo chara</td>\n      <td>https://www.crunchyroll.com/shugo-chara</td>\n      <td>51</td>\n      <td>97.2</td>\n      <td>genre_action</td>\n      <td>0.0</td>\n    </tr>\n    <tr>\n      <td>2</td>\n      <td>bleach</td>\n      <td>https://www.crunchyroll.com/bleach</td>\n      <td>366</td>\n      <td>96.6</td>\n      <td>genre_action</td>\n      <td>0.0</td>\n    </tr>\n    <tr>\n      <td>3</td>\n      <td>naruto</td>\n      <td>https://www.crunchyroll.com/naruto</td>\n      <td>220</td>\n      <td>96.0</td>\n      <td>genre_action</td>\n      <td>0.0</td>\n    </tr>\n    <tr>\n      <td>4</td>\n      <td>skip beat</td>\n      <td>https://www.crunchyroll.com/skip-beat</td>\n      <td>0</td>\n      <td>98.2</td>\n      <td>genre_action</td>\n      <td>0.0</td>\n    </tr>\n  </tbody>\n</table>\n</div>"
     },
     "metadata": {},
     "execution_count": 43
    }
   ],
   "source": [
    "crunchy_df_melt.head(5)\n",
    ""
   ]
  },
  {
   "cell_type": "code",
   "execution_count": 44,
   "metadata": {},
   "outputs": [],
   "source": [
    "crunchy_df = crunchy_df[['anime', 'anime_url', 'episodes','rate']].copy()"
   ]
  },
  {
   "cell_type": "markdown",
   "metadata": {},
   "source": [
    "### Cleaning MyAnimeList"
   ]
  },
  {
   "cell_type": "code",
   "execution_count": 45,
   "metadata": {},
   "outputs": [
    {
     "output_type": "execute_result",
     "data": {
      "text/plain": "array(['uid', 'title', 'synopsis', 'genre', 'aired', 'episodes',\n       'members', 'popularity', 'ranked', 'score', 'img_url', 'link'],\n      dtype=object)"
     },
     "metadata": {},
     "execution_count": 45
    }
   ],
   "source": [
    "mal_df.columns.values"
   ]
  },
  {
   "cell_type": "code",
   "execution_count": 46,
   "metadata": {},
   "outputs": [],
   "source": [
    "  \n",
    "# rows list initialization \n",
    "title=[]\n",
    "episodes = []\n",
    "score =[]\n",
    "link= []\n",
    "genre=[]\n",
    "for index, data in mal_df.iterrows():\n",
    "  \n",
    "   \n",
    "     \n",
    "    time = data['genre'] \n",
    "    time=time.replace('[', '') \n",
    "    time=time.replace(']','')\n",
    "    time= time.split(',')\n",
    "    \n",
    "    for row in time:\n",
    "        genre.append(row)\n",
    "        title.append(data['title'])\n",
    "        episodes.append(data['episodes'])\n",
    "        score.append(data['score'])\n",
    "        link.append(data['link'])\n",
    "        \n",
    ""
   ]
  },
  {
   "cell_type": "code",
   "execution_count": 47,
   "metadata": {},
   "outputs": [],
   "source": [
    "dict = {'title': title,'link':link,'episodes': episodes,'score':score, 'genre':genre} \n",
    "mal_df_2 = pd.DataFrame(dict)"
   ]
  },
  {
   "cell_type": "code",
   "execution_count": 48,
   "metadata": {
    "scrolled": false
   },
   "outputs": [
    {
     "output_type": "execute_result",
     "data": {
      "text/plain": "                   title                                               link  \\\n0  haikyuu second season  https://myanimelist.net/anime/28891/Haikyuu_Se...   \n1  haikyuu second season  https://myanimelist.net/anime/28891/Haikyuu_Se...   \n2  haikyuu second season  https://myanimelist.net/anime/28891/Haikyuu_Se...   \n3  haikyuu second season  https://myanimelist.net/anime/28891/Haikyuu_Se...   \n4  haikyuu second season  https://myanimelist.net/anime/28891/Haikyuu_Se...   \n\n   episodes  score       genre  \n0      25.0   88.2    'Comedy'  \n1      25.0   88.2    'Sports'  \n2      25.0   88.2     'Drama'  \n3      25.0   88.2    'School'  \n4      25.0   88.2   'Shounen'  ",
      "text/html": "<div>\n<style scoped>\n    .dataframe tbody tr th:only-of-type {\n        vertical-align: middle;\n    }\n\n    .dataframe tbody tr th {\n        vertical-align: top;\n    }\n\n    .dataframe thead th {\n        text-align: right;\n    }\n</style>\n<table border=\"1\" class=\"dataframe\">\n  <thead>\n    <tr style=\"text-align: right;\">\n      <th></th>\n      <th>title</th>\n      <th>link</th>\n      <th>episodes</th>\n      <th>score</th>\n      <th>genre</th>\n    </tr>\n  </thead>\n  <tbody>\n    <tr>\n      <td>0</td>\n      <td>haikyuu second season</td>\n      <td>https://myanimelist.net/anime/28891/Haikyuu_Se...</td>\n      <td>25.0</td>\n      <td>88.2</td>\n      <td>'Comedy'</td>\n    </tr>\n    <tr>\n      <td>1</td>\n      <td>haikyuu second season</td>\n      <td>https://myanimelist.net/anime/28891/Haikyuu_Se...</td>\n      <td>25.0</td>\n      <td>88.2</td>\n      <td>'Sports'</td>\n    </tr>\n    <tr>\n      <td>2</td>\n      <td>haikyuu second season</td>\n      <td>https://myanimelist.net/anime/28891/Haikyuu_Se...</td>\n      <td>25.0</td>\n      <td>88.2</td>\n      <td>'Drama'</td>\n    </tr>\n    <tr>\n      <td>3</td>\n      <td>haikyuu second season</td>\n      <td>https://myanimelist.net/anime/28891/Haikyuu_Se...</td>\n      <td>25.0</td>\n      <td>88.2</td>\n      <td>'School'</td>\n    </tr>\n    <tr>\n      <td>4</td>\n      <td>haikyuu second season</td>\n      <td>https://myanimelist.net/anime/28891/Haikyuu_Se...</td>\n      <td>25.0</td>\n      <td>88.2</td>\n      <td>'Shounen'</td>\n    </tr>\n  </tbody>\n</table>\n</div>"
     },
     "metadata": {},
     "execution_count": 48
    }
   ],
   "source": [
    "mal_df_2.head()"
   ]
  },
  {
   "cell_type": "markdown",
   "metadata": {},
   "source": [
    "# Transformations to data"
   ]
  },
  {
   "cell_type": "code",
   "execution_count": 49,
   "metadata": {
    "scrolled": true
   },
   "outputs": [],
   "source": [
    "crunchy_df_melt = crunchy_df_melt.drop(['value'],axis=1)\n",
    "crunchy_df_melt['variable'] = crunchy_df_melt['variable'].str.replace('genre_', '').astype(str)\n",
    "crunchy_df_melt = crunchy_df_melt.rename(columns={\"anime\": \"title\",\"anime_url\":\"url\", \"rate\":\"score\",\"variable\":\"genre\"})"
   ]
  },
  {
   "cell_type": "code",
   "execution_count": 50,
   "metadata": {},
   "outputs": [],
   "source": [
    "crunchy_df_melt['source'] = 1"
   ]
  },
  {
   "cell_type": "code",
   "execution_count": 51,
   "metadata": {},
   "outputs": [
    {
     "output_type": "execute_result",
     "data": {
      "text/plain": "               title                                           url  episodes  \\\n0  naruto shippuuden  https://www.crunchyroll.com/naruto-shippuden       500   \n1        shugo chara       https://www.crunchyroll.com/shugo-chara        51   \n2             bleach            https://www.crunchyroll.com/bleach       366   \n3             naruto            https://www.crunchyroll.com/naruto       220   \n4          skip beat         https://www.crunchyroll.com/skip-beat         0   \n\n   score   genre  source  \n0   96.2  action       1  \n1   97.2  action       1  \n2   96.6  action       1  \n3   96.0  action       1  \n4   98.2  action       1  ",
      "text/html": "<div>\n<style scoped>\n    .dataframe tbody tr th:only-of-type {\n        vertical-align: middle;\n    }\n\n    .dataframe tbody tr th {\n        vertical-align: top;\n    }\n\n    .dataframe thead th {\n        text-align: right;\n    }\n</style>\n<table border=\"1\" class=\"dataframe\">\n  <thead>\n    <tr style=\"text-align: right;\">\n      <th></th>\n      <th>title</th>\n      <th>url</th>\n      <th>episodes</th>\n      <th>score</th>\n      <th>genre</th>\n      <th>source</th>\n    </tr>\n  </thead>\n  <tbody>\n    <tr>\n      <td>0</td>\n      <td>naruto shippuuden</td>\n      <td>https://www.crunchyroll.com/naruto-shippuden</td>\n      <td>500</td>\n      <td>96.2</td>\n      <td>action</td>\n      <td>1</td>\n    </tr>\n    <tr>\n      <td>1</td>\n      <td>shugo chara</td>\n      <td>https://www.crunchyroll.com/shugo-chara</td>\n      <td>51</td>\n      <td>97.2</td>\n      <td>action</td>\n      <td>1</td>\n    </tr>\n    <tr>\n      <td>2</td>\n      <td>bleach</td>\n      <td>https://www.crunchyroll.com/bleach</td>\n      <td>366</td>\n      <td>96.6</td>\n      <td>action</td>\n      <td>1</td>\n    </tr>\n    <tr>\n      <td>3</td>\n      <td>naruto</td>\n      <td>https://www.crunchyroll.com/naruto</td>\n      <td>220</td>\n      <td>96.0</td>\n      <td>action</td>\n      <td>1</td>\n    </tr>\n    <tr>\n      <td>4</td>\n      <td>skip beat</td>\n      <td>https://www.crunchyroll.com/skip-beat</td>\n      <td>0</td>\n      <td>98.2</td>\n      <td>action</td>\n      <td>1</td>\n    </tr>\n  </tbody>\n</table>\n</div>"
     },
     "metadata": {},
     "execution_count": 51
    }
   ],
   "source": [
    "crunchy_df_melt.head(5)"
   ]
  },
  {
   "cell_type": "code",
   "execution_count": 52,
   "metadata": {},
   "outputs": [],
   "source": [
    "mal_df_2['genre'] = mal_df_2['genre'].str.replace(\"'\", '').astype(str)\n",
    "mal_df_2[\"genre\"]=mal_df_2['genre'].str.lower()\n",
    "mal_df_2 = mal_df_2[mal_df_2['episodes'].notnull()]\n",
    "mal_df_2['episodes'] = mal_df_2['episodes'].astype(int)\n",
    "mal_df_2 = mal_df_2.rename(columns={\"link\":\"url\"})"
   ]
  },
  {
   "cell_type": "code",
   "execution_count": 53,
   "metadata": {},
   "outputs": [],
   "source": [
    "mal_df_2['source'] = 2"
   ]
  },
  {
   "cell_type": "code",
   "execution_count": 54,
   "metadata": {},
   "outputs": [
    {
     "output_type": "execute_result",
     "data": {
      "text/plain": "                   title                                                url  \\\n0  haikyuu second season  https://myanimelist.net/anime/28891/Haikyuu_Se...   \n1  haikyuu second season  https://myanimelist.net/anime/28891/Haikyuu_Se...   \n2  haikyuu second season  https://myanimelist.net/anime/28891/Haikyuu_Se...   \n3  haikyuu second season  https://myanimelist.net/anime/28891/Haikyuu_Se...   \n4  haikyuu second season  https://myanimelist.net/anime/28891/Haikyuu_Se...   \n\n   episodes  score     genre  source  \n0        25   88.2    comedy       2  \n1        25   88.2    sports       2  \n2        25   88.2     drama       2  \n3        25   88.2    school       2  \n4        25   88.2   shounen       2  ",
      "text/html": "<div>\n<style scoped>\n    .dataframe tbody tr th:only-of-type {\n        vertical-align: middle;\n    }\n\n    .dataframe tbody tr th {\n        vertical-align: top;\n    }\n\n    .dataframe thead th {\n        text-align: right;\n    }\n</style>\n<table border=\"1\" class=\"dataframe\">\n  <thead>\n    <tr style=\"text-align: right;\">\n      <th></th>\n      <th>title</th>\n      <th>url</th>\n      <th>episodes</th>\n      <th>score</th>\n      <th>genre</th>\n      <th>source</th>\n    </tr>\n  </thead>\n  <tbody>\n    <tr>\n      <td>0</td>\n      <td>haikyuu second season</td>\n      <td>https://myanimelist.net/anime/28891/Haikyuu_Se...</td>\n      <td>25</td>\n      <td>88.2</td>\n      <td>comedy</td>\n      <td>2</td>\n    </tr>\n    <tr>\n      <td>1</td>\n      <td>haikyuu second season</td>\n      <td>https://myanimelist.net/anime/28891/Haikyuu_Se...</td>\n      <td>25</td>\n      <td>88.2</td>\n      <td>sports</td>\n      <td>2</td>\n    </tr>\n    <tr>\n      <td>2</td>\n      <td>haikyuu second season</td>\n      <td>https://myanimelist.net/anime/28891/Haikyuu_Se...</td>\n      <td>25</td>\n      <td>88.2</td>\n      <td>drama</td>\n      <td>2</td>\n    </tr>\n    <tr>\n      <td>3</td>\n      <td>haikyuu second season</td>\n      <td>https://myanimelist.net/anime/28891/Haikyuu_Se...</td>\n      <td>25</td>\n      <td>88.2</td>\n      <td>school</td>\n      <td>2</td>\n    </tr>\n    <tr>\n      <td>4</td>\n      <td>haikyuu second season</td>\n      <td>https://myanimelist.net/anime/28891/Haikyuu_Se...</td>\n      <td>25</td>\n      <td>88.2</td>\n      <td>shounen</td>\n      <td>2</td>\n    </tr>\n  </tbody>\n</table>\n</div>"
     },
     "metadata": {},
     "execution_count": 54
    }
   ],
   "source": [
    "mal_df_2.head(5)"
   ]
  },
  {
   "cell_type": "code",
   "execution_count": 55,
   "metadata": {
    "scrolled": true
   },
   "outputs": [
    {
     "output_type": "execute_result",
     "data": {
      "text/plain": "title        object\nurl          object\nepisodes      int64\nscore       float64\ngenre        object\nsource        int64\ndtype: object"
     },
     "metadata": {},
     "execution_count": 55
    }
   ],
   "source": [
    "crunchy_df_melt.dtypes"
   ]
  },
  {
   "cell_type": "code",
   "execution_count": 56,
   "metadata": {
    "scrolled": true
   },
   "outputs": [
    {
     "output_type": "execute_result",
     "data": {
      "text/plain": "title        object\nurl          object\nepisodes      int32\nscore       float64\ngenre        object\nsource        int64\ndtype: object"
     },
     "metadata": {},
     "execution_count": 56
    }
   ],
   "source": [
    "mal_df_2.dtypes"
   ]
  },
  {
   "cell_type": "markdown",
   "metadata": {},
   "source": [
    "# Append data frames, and reset index"
   ]
  },
  {
   "cell_type": "code",
   "execution_count": 57,
   "metadata": {},
   "outputs": [
    {
     "output_type": "execute_result",
     "data": {
      "text/plain": "(81698, 6)"
     },
     "metadata": {},
     "execution_count": 57
    }
   ],
   "source": [
    "merge_df =crunchy_df_melt.append(mal_df_2, ignore_index=True)\n",
    "merge_df.shape"
   ]
  },
  {
   "cell_type": "code",
   "execution_count": 58,
   "metadata": {},
   "outputs": [
    {
     "output_type": "execute_result",
     "data": {
      "text/plain": "Index(['title', 'url', 'episodes', 'score', 'genre', 'source'], dtype='object')"
     },
     "metadata": {},
     "execution_count": 58
    }
   ],
   "source": [
    "merge_df.columns"
   ]
  },
  {
   "cell_type": "code",
   "execution_count": 59,
   "metadata": {},
   "outputs": [
    {
     "output_type": "execute_result",
     "data": {
      "text/plain": "                                                   title  \\\n0                                      naruto shippuuden   \n1                                            shugo chara   \n2                                                 bleach   \n3                                                 naruto   \n4                                              skip beat   \n...                                                  ...   \n81693  chuunibyou demo koi ga shitai kirameki no slap...   \n81694  chuunibyou demo koi ga shitai kirameki no slap...   \n81695  chuunibyou demo koi ga shitai kirameki no slap...   \n81696  chuunibyou demo koi ga shitai kirameki no slap...   \n81697  chuunibyou demo koi ga shitai kirameki no slap...   \n\n                                                     url  episodes  score  \\\n0           https://www.crunchyroll.com/naruto-shippuden       500   96.2   \n1                https://www.crunchyroll.com/shugo-chara        51   97.2   \n2                     https://www.crunchyroll.com/bleach       366   96.6   \n3                     https://www.crunchyroll.com/naruto       220   96.0   \n4                  https://www.crunchyroll.com/skip-beat         0   98.2   \n...                                                  ...       ...    ...   \n81693  https://myanimelist.net/anime/16934/Chuunibyou...         1   75.6   \n81694  https://myanimelist.net/anime/16934/Chuunibyou...         1   75.6   \n81695  https://myanimelist.net/anime/16934/Chuunibyou...         1   75.6   \n81696  https://myanimelist.net/anime/16934/Chuunibyou...         1   75.6   \n81697  https://myanimelist.net/anime/16934/Chuunibyou...         1   75.6   \n\n                genre  source  \n0              action       1  \n1              action       1  \n2              action       1  \n3              action       1  \n4              action       1  \n...               ...     ...  \n81693          comedy       2  \n81694           drama       2  \n81695         romance       2  \n81696          school       2  \n81697   slice of life       2  \n\n[81698 rows x 6 columns]",
      "text/html": "<div>\n<style scoped>\n    .dataframe tbody tr th:only-of-type {\n        vertical-align: middle;\n    }\n\n    .dataframe tbody tr th {\n        vertical-align: top;\n    }\n\n    .dataframe thead th {\n        text-align: right;\n    }\n</style>\n<table border=\"1\" class=\"dataframe\">\n  <thead>\n    <tr style=\"text-align: right;\">\n      <th></th>\n      <th>title</th>\n      <th>url</th>\n      <th>episodes</th>\n      <th>score</th>\n      <th>genre</th>\n      <th>source</th>\n    </tr>\n  </thead>\n  <tbody>\n    <tr>\n      <td>0</td>\n      <td>naruto shippuuden</td>\n      <td>https://www.crunchyroll.com/naruto-shippuden</td>\n      <td>500</td>\n      <td>96.2</td>\n      <td>action</td>\n      <td>1</td>\n    </tr>\n    <tr>\n      <td>1</td>\n      <td>shugo chara</td>\n      <td>https://www.crunchyroll.com/shugo-chara</td>\n      <td>51</td>\n      <td>97.2</td>\n      <td>action</td>\n      <td>1</td>\n    </tr>\n    <tr>\n      <td>2</td>\n      <td>bleach</td>\n      <td>https://www.crunchyroll.com/bleach</td>\n      <td>366</td>\n      <td>96.6</td>\n      <td>action</td>\n      <td>1</td>\n    </tr>\n    <tr>\n      <td>3</td>\n      <td>naruto</td>\n      <td>https://www.crunchyroll.com/naruto</td>\n      <td>220</td>\n      <td>96.0</td>\n      <td>action</td>\n      <td>1</td>\n    </tr>\n    <tr>\n      <td>4</td>\n      <td>skip beat</td>\n      <td>https://www.crunchyroll.com/skip-beat</td>\n      <td>0</td>\n      <td>98.2</td>\n      <td>action</td>\n      <td>1</td>\n    </tr>\n    <tr>\n      <td>...</td>\n      <td>...</td>\n      <td>...</td>\n      <td>...</td>\n      <td>...</td>\n      <td>...</td>\n      <td>...</td>\n    </tr>\n    <tr>\n      <td>81693</td>\n      <td>chuunibyou demo koi ga shitai kirameki no slap...</td>\n      <td>https://myanimelist.net/anime/16934/Chuunibyou...</td>\n      <td>1</td>\n      <td>75.6</td>\n      <td>comedy</td>\n      <td>2</td>\n    </tr>\n    <tr>\n      <td>81694</td>\n      <td>chuunibyou demo koi ga shitai kirameki no slap...</td>\n      <td>https://myanimelist.net/anime/16934/Chuunibyou...</td>\n      <td>1</td>\n      <td>75.6</td>\n      <td>drama</td>\n      <td>2</td>\n    </tr>\n    <tr>\n      <td>81695</td>\n      <td>chuunibyou demo koi ga shitai kirameki no slap...</td>\n      <td>https://myanimelist.net/anime/16934/Chuunibyou...</td>\n      <td>1</td>\n      <td>75.6</td>\n      <td>romance</td>\n      <td>2</td>\n    </tr>\n    <tr>\n      <td>81696</td>\n      <td>chuunibyou demo koi ga shitai kirameki no slap...</td>\n      <td>https://myanimelist.net/anime/16934/Chuunibyou...</td>\n      <td>1</td>\n      <td>75.6</td>\n      <td>school</td>\n      <td>2</td>\n    </tr>\n    <tr>\n      <td>81697</td>\n      <td>chuunibyou demo koi ga shitai kirameki no slap...</td>\n      <td>https://myanimelist.net/anime/16934/Chuunibyou...</td>\n      <td>1</td>\n      <td>75.6</td>\n      <td>slice of life</td>\n      <td>2</td>\n    </tr>\n  </tbody>\n</table>\n<p>81698 rows × 6 columns</p>\n</div>"
     },
     "metadata": {},
     "execution_count": 59
    }
   ],
   "source": [
    "#ready to use dataframe, from here we shoul extract the relational tables for sql database\n",
    "merge_df"
   ]
  },
  {
   "cell_type": "markdown",
   "metadata": {},
   "source": [
    "## Dataframe per table - catalogs"
   ]
  },
  {
   "cell_type": "code",
   "execution_count": 62,
   "metadata": {},
   "outputs": [
    {
     "output_type": "execute_result",
     "data": {
      "text/plain": "                                                   title  episodes\n0                                      naruto shippuuden       500\n1                                            shugo chara        51\n2                                                 bleach       366\n3                                                 naruto       220\n4                                              skip beat         0\n...                                                  ...       ...\n16521                           netjuu no susume special         1\n16522                                        naruto x ut         1\n16523                                   miira no kaikata        12\n16524                       kingsglaive final fantasy xv         1\n16525  chuunibyou demo koi ga shitai kirameki no slap...         1\n\n[16526 rows x 2 columns]",
      "text/html": "<div>\n<style scoped>\n    .dataframe tbody tr th:only-of-type {\n        vertical-align: middle;\n    }\n\n    .dataframe tbody tr th {\n        vertical-align: top;\n    }\n\n    .dataframe thead th {\n        text-align: right;\n    }\n</style>\n<table border=\"1\" class=\"dataframe\">\n  <thead>\n    <tr style=\"text-align: right;\">\n      <th></th>\n      <th>title</th>\n      <th>episodes</th>\n    </tr>\n  </thead>\n  <tbody>\n    <tr>\n      <td>0</td>\n      <td>naruto shippuuden</td>\n      <td>500</td>\n    </tr>\n    <tr>\n      <td>1</td>\n      <td>shugo chara</td>\n      <td>51</td>\n    </tr>\n    <tr>\n      <td>2</td>\n      <td>bleach</td>\n      <td>366</td>\n    </tr>\n    <tr>\n      <td>3</td>\n      <td>naruto</td>\n      <td>220</td>\n    </tr>\n    <tr>\n      <td>4</td>\n      <td>skip beat</td>\n      <td>0</td>\n    </tr>\n    <tr>\n      <td>...</td>\n      <td>...</td>\n      <td>...</td>\n    </tr>\n    <tr>\n      <td>16521</td>\n      <td>netjuu no susume special</td>\n      <td>1</td>\n    </tr>\n    <tr>\n      <td>16522</td>\n      <td>naruto x ut</td>\n      <td>1</td>\n    </tr>\n    <tr>\n      <td>16523</td>\n      <td>miira no kaikata</td>\n      <td>12</td>\n    </tr>\n    <tr>\n      <td>16524</td>\n      <td>kingsglaive final fantasy xv</td>\n      <td>1</td>\n    </tr>\n    <tr>\n      <td>16525</td>\n      <td>chuunibyou demo koi ga shitai kirameki no slap...</td>\n      <td>1</td>\n    </tr>\n  </tbody>\n</table>\n<p>16526 rows × 2 columns</p>\n</div>"
     },
     "metadata": {},
     "execution_count": 62
    }
   ],
   "source": [
    "anime = merge_df[['title','episodes']]\n",
    "anime = anime.drop_duplicates('title')\n",
    "anime = anime.reset_index(drop=True)\n",
    "anime"
   ]
  },
  {
   "cell_type": "code",
   "execution_count": 61,
   "metadata": {},
   "outputs": [
    {
     "output_type": "execute_result",
     "data": {
      "text/plain": "         genre\n0       action\n1    adventure\n2       comedy\n3        drama\n4       family\n..         ...\n89  shounen ai\n90      police\n91      shoujo\n92     samurai\n93     vampire\n\n[94 rows x 1 columns]",
      "text/html": "<div>\n<style scoped>\n    .dataframe tbody tr th:only-of-type {\n        vertical-align: middle;\n    }\n\n    .dataframe tbody tr th {\n        vertical-align: top;\n    }\n\n    .dataframe thead th {\n        text-align: right;\n    }\n</style>\n<table border=\"1\" class=\"dataframe\">\n  <thead>\n    <tr style=\"text-align: right;\">\n      <th></th>\n      <th>genre</th>\n    </tr>\n  </thead>\n  <tbody>\n    <tr>\n      <td>0</td>\n      <td>action</td>\n    </tr>\n    <tr>\n      <td>1</td>\n      <td>adventure</td>\n    </tr>\n    <tr>\n      <td>2</td>\n      <td>comedy</td>\n    </tr>\n    <tr>\n      <td>3</td>\n      <td>drama</td>\n    </tr>\n    <tr>\n      <td>4</td>\n      <td>family</td>\n    </tr>\n    <tr>\n      <td>...</td>\n      <td>...</td>\n    </tr>\n    <tr>\n      <td>89</td>\n      <td>shounen ai</td>\n    </tr>\n    <tr>\n      <td>90</td>\n      <td>police</td>\n    </tr>\n    <tr>\n      <td>91</td>\n      <td>shoujo</td>\n    </tr>\n    <tr>\n      <td>92</td>\n      <td>samurai</td>\n    </tr>\n    <tr>\n      <td>93</td>\n      <td>vampire</td>\n    </tr>\n  </tbody>\n</table>\n<p>94 rows × 1 columns</p>\n</div>"
     },
     "metadata": {},
     "execution_count": 61
    }
   ],
   "source": [
    "genre = merge_df[['genre']]\n",
    "genre.drop_duplicates('genre', inplace=True)\n",
    "genre.reset_index(drop=True)"
   ]
  },
  {
   "cell_type": "code",
   "execution_count": null,
   "metadata": {},
   "outputs": [],
   "source": [
    "# select \n",
    "#    a.title, \n",
    "#    g.genre_name\n",
    "# from anime a\n",
    "# left genre_anime ga\n",
    "# on a.id = ga.id_anime\n",
    "# left join genre g\n",
    "# on g.id = ga.id_genre\n",
    "# where title == 'Naruto';"
   ]
  }
 ],
 "metadata": {
  "kernelspec": {
   "display_name": "Python 3",
   "language": "python",
   "name": "python3"
  },
  "language_info": {
   "codemirror_mode": {
    "name": "ipython",
    "version": 3
   },
   "file_extension": ".py",
   "mimetype": "text/x-python",
   "name": "python",
   "nbconvert_exporter": "python",
   "pygments_lexer": "ipython3",
   "version": "3.7.4-final"
  }
 },
 "nbformat": 4,
 "nbformat_minor": 2
}